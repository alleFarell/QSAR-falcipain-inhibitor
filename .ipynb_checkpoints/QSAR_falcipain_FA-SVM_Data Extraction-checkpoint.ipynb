{
 "cells": [
  {
   "cell_type": "code",
   "execution_count": 81,
   "id": "54d9c414",
   "metadata": {},
   "outputs": [],
   "source": [
    "import pandas as pd\n",
    "import numpy as np\n",
    "import re"
   ]
  },
  {
   "cell_type": "code",
   "execution_count": 82,
   "id": "ee88fe7d",
   "metadata": {},
   "outputs": [
    {
     "data": {
      "text/html": [
       "<div>\n",
       "<style scoped>\n",
       "    .dataframe tbody tr th:only-of-type {\n",
       "        vertical-align: middle;\n",
       "    }\n",
       "\n",
       "    .dataframe tbody tr th {\n",
       "        vertical-align: top;\n",
       "    }\n",
       "\n",
       "    .dataframe thead th {\n",
       "        text-align: right;\n",
       "    }\n",
       "</style>\n",
       "<table border=\"1\" class=\"dataframe\">\n",
       "  <thead>\n",
       "    <tr style=\"text-align: right;\">\n",
       "      <th></th>\n",
       "      <th>Compound</th>\n",
       "      <th>SMILE</th>\n",
       "      <th>FP-2 IC50 (uM)</th>\n",
       "      <th>FP-2 inhibition rate at 10 uM (%)</th>\n",
       "      <th>FP-2 inhibition rate at 20 uM (%)</th>\n",
       "    </tr>\n",
       "  </thead>\n",
       "  <tbody>\n",
       "    <tr>\n",
       "      <th>0</th>\n",
       "      <td>2</td>\n",
       "      <td>OCCCc1sc(\\C=C\\C(=O)CSCCCc2ccccc2)nc1CCc1ccccc1</td>\n",
       "      <td>6.6</td>\n",
       "      <td>NaN</td>\n",
       "      <td>NaN</td>\n",
       "    </tr>\n",
       "    <tr>\n",
       "      <th>1</th>\n",
       "      <td>3</td>\n",
       "      <td>OCCCc1sc(CCC(=O)CSCCCc2ccccc2)nc1CCc1ccccc1</td>\n",
       "      <td>&gt;12.5</td>\n",
       "      <td>NaN</td>\n",
       "      <td>NaN</td>\n",
       "    </tr>\n",
       "    <tr>\n",
       "      <th>2</th>\n",
       "      <td>4</td>\n",
       "      <td>O=CCCc1sc(CCC(=O)CSCCCc2ccccc2)nc1CCc1ccccc1</td>\n",
       "      <td>39.1</td>\n",
       "      <td>NaN</td>\n",
       "      <td>NaN</td>\n",
       "    </tr>\n",
       "    <tr>\n",
       "      <th>3</th>\n",
       "      <td>5</td>\n",
       "      <td>CC(=O)OCc1nc(CCC(=O)CSCCCc2ccccc2)sc1CCc1ccccc1</td>\n",
       "      <td>&gt;33</td>\n",
       "      <td>NaN</td>\n",
       "      <td>NaN</td>\n",
       "    </tr>\n",
       "    <tr>\n",
       "      <th>4</th>\n",
       "      <td>6</td>\n",
       "      <td>NC(=O)CCc1sc(CCC(=O)CSCCCc2ccccc2)nc1CCc1ccccc1</td>\n",
       "      <td>&gt;33</td>\n",
       "      <td>NaN</td>\n",
       "      <td>NaN</td>\n",
       "    </tr>\n",
       "    <tr>\n",
       "      <th>...</th>\n",
       "      <td>...</td>\n",
       "      <td>...</td>\n",
       "      <td>...</td>\n",
       "      <td>...</td>\n",
       "      <td>...</td>\n",
       "    </tr>\n",
       "    <tr>\n",
       "      <th>510</th>\n",
       "      <td>575</td>\n",
       "      <td>Oc1cc(O)c2c(c1)oc(-c1cc(O)c(O)c(O)c1)c(O)c2=O</td>\n",
       "      <td>0.1</td>\n",
       "      <td>76.4</td>\n",
       "      <td>NaN</td>\n",
       "    </tr>\n",
       "    <tr>\n",
       "      <th>511</th>\n",
       "      <td>576</td>\n",
       "      <td>Oc1cc(O)c2c(c1)oc(-c1ccc(O)c(O)c1)c(O)c2=O</td>\n",
       "      <td>0.3</td>\n",
       "      <td>75.8</td>\n",
       "      <td>NaN</td>\n",
       "    </tr>\n",
       "    <tr>\n",
       "      <th>512</th>\n",
       "      <td>577</td>\n",
       "      <td>Oc1ccc(c(O)c1)-c1oc2cc(O)cc(O)c2c(=O)c1O</td>\n",
       "      <td>0.2</td>\n",
       "      <td>79.9</td>\n",
       "      <td>NaN</td>\n",
       "    </tr>\n",
       "    <tr>\n",
       "      <th>513</th>\n",
       "      <td>578</td>\n",
       "      <td>O[C@@H]1[C@H](Oc2cc(O)cc(O)c2C1=O)c1ccc(O)c(O)c1</td>\n",
       "      <td>NaN</td>\n",
       "      <td>16.9</td>\n",
       "      <td>NaN</td>\n",
       "    </tr>\n",
       "    <tr>\n",
       "      <th>514</th>\n",
       "      <td>579</td>\n",
       "      <td>Oc1ccc2c(c1)oc(-c1ccc(O)c(O)c1)c(O)c2=O</td>\n",
       "      <td>0.3</td>\n",
       "      <td>67.8</td>\n",
       "      <td>NaN</td>\n",
       "    </tr>\n",
       "  </tbody>\n",
       "</table>\n",
       "<p>515 rows × 5 columns</p>\n",
       "</div>"
      ],
      "text/plain": [
       "     Compound                                             SMILE  \\\n",
       "0           2    OCCCc1sc(\\C=C\\C(=O)CSCCCc2ccccc2)nc1CCc1ccccc1   \n",
       "1           3       OCCCc1sc(CCC(=O)CSCCCc2ccccc2)nc1CCc1ccccc1   \n",
       "2           4      O=CCCc1sc(CCC(=O)CSCCCc2ccccc2)nc1CCc1ccccc1   \n",
       "3           5   CC(=O)OCc1nc(CCC(=O)CSCCCc2ccccc2)sc1CCc1ccccc1   \n",
       "4           6   NC(=O)CCc1sc(CCC(=O)CSCCCc2ccccc2)nc1CCc1ccccc1   \n",
       "..        ...                                               ...   \n",
       "510       575     Oc1cc(O)c2c(c1)oc(-c1cc(O)c(O)c(O)c1)c(O)c2=O   \n",
       "511       576        Oc1cc(O)c2c(c1)oc(-c1ccc(O)c(O)c1)c(O)c2=O   \n",
       "512       577          Oc1ccc(c(O)c1)-c1oc2cc(O)cc(O)c2c(=O)c1O   \n",
       "513       578  O[C@@H]1[C@H](Oc2cc(O)cc(O)c2C1=O)c1ccc(O)c(O)c1   \n",
       "514       579           Oc1ccc2c(c1)oc(-c1ccc(O)c(O)c1)c(O)c2=O   \n",
       "\n",
       "    FP-2 IC50 (uM) FP-2 inhibition rate at 10 uM (%)  \\\n",
       "0              6.6                               NaN   \n",
       "1            >12.5                               NaN   \n",
       "2             39.1                               NaN   \n",
       "3              >33                               NaN   \n",
       "4              >33                               NaN   \n",
       "..             ...                               ...   \n",
       "510            0.1                              76.4   \n",
       "511            0.3                              75.8   \n",
       "512            0.2                              79.9   \n",
       "513            NaN                              16.9   \n",
       "514            0.3                              67.8   \n",
       "\n",
       "     FP-2 inhibition rate at 20 uM (%)  \n",
       "0                                  NaN  \n",
       "1                                  NaN  \n",
       "2                                  NaN  \n",
       "3                                  NaN  \n",
       "4                                  NaN  \n",
       "..                                 ...  \n",
       "510                                NaN  \n",
       "511                                NaN  \n",
       "512                                NaN  \n",
       "513                                NaN  \n",
       "514                                NaN  \n",
       "\n",
       "[515 rows x 5 columns]"
      ]
     },
     "execution_count": 82,
     "metadata": {},
     "output_type": "execute_result"
    }
   ],
   "source": [
    "raw_data = pd.read_csv(\"D:\\Coding\\Machine Learning\\Bioinformatics\\QSAR study on falcipain inhibitor\\Dataset Falciapin\\Data_Sheet_1_In_silico_Guided_Drug_Repurposing_Discovery_of_New.CSV\", sep=\";\")\n",
    "raw_data"
   ]
  },
  {
   "cell_type": "code",
   "execution_count": 83,
   "id": "743a349f",
   "metadata": {},
   "outputs": [
    {
     "data": {
      "text/plain": [
       "Compound                               0\n",
       "SMILE                                  0\n",
       "FP-2 IC50 (uM)                        66\n",
       "FP-2 inhibition rate at 10 uM (%)    422\n",
       "FP-2 inhibition rate at 20 uM (%)    502\n",
       "dtype: int64"
      ]
     },
     "execution_count": 83,
     "metadata": {},
     "output_type": "execute_result"
    }
   ],
   "source": [
    "raw_data.isna().sum()"
   ]
  },
  {
   "cell_type": "code",
   "execution_count": 84,
   "id": "a769f154",
   "metadata": {},
   "outputs": [
    {
     "data": {
      "text/plain": [
       "Compound                               int64\n",
       "SMILE                                 object\n",
       "FP-2 IC50 (uM)                        object\n",
       "FP-2 inhibition rate at 10 uM (%)     object\n",
       "FP-2 inhibition rate at 20 uM (%)    float64\n",
       "dtype: object"
      ]
     },
     "execution_count": 84,
     "metadata": {},
     "output_type": "execute_result"
    }
   ],
   "source": [
    "raw_data.dtypes"
   ]
  },
  {
   "cell_type": "markdown",
   "id": "ce0f5133",
   "metadata": {},
   "source": [
    "### Cleaning Raw Data"
   ]
  },
  {
   "cell_type": "code",
   "execution_count": 85,
   "id": "42bb91d0",
   "metadata": {},
   "outputs": [
    {
     "data": {
      "text/html": [
       "<div>\n",
       "<style scoped>\n",
       "    .dataframe tbody tr th:only-of-type {\n",
       "        vertical-align: middle;\n",
       "    }\n",
       "\n",
       "    .dataframe tbody tr th {\n",
       "        vertical-align: top;\n",
       "    }\n",
       "\n",
       "    .dataframe thead th {\n",
       "        text-align: right;\n",
       "    }\n",
       "</style>\n",
       "<table border=\"1\" class=\"dataframe\">\n",
       "  <thead>\n",
       "    <tr style=\"text-align: right;\">\n",
       "      <th></th>\n",
       "      <th>Compound</th>\n",
       "      <th>SMILE</th>\n",
       "      <th>FP-2 IC50 (uM)</th>\n",
       "    </tr>\n",
       "  </thead>\n",
       "  <tbody>\n",
       "    <tr>\n",
       "      <th>0</th>\n",
       "      <td>2</td>\n",
       "      <td>OCCCc1sc(\\C=C\\C(=O)CSCCCc2ccccc2)nc1CCc1ccccc1</td>\n",
       "      <td>6.6</td>\n",
       "    </tr>\n",
       "    <tr>\n",
       "      <th>1</th>\n",
       "      <td>3</td>\n",
       "      <td>OCCCc1sc(CCC(=O)CSCCCc2ccccc2)nc1CCc1ccccc1</td>\n",
       "      <td>&gt;12.5</td>\n",
       "    </tr>\n",
       "    <tr>\n",
       "      <th>2</th>\n",
       "      <td>4</td>\n",
       "      <td>O=CCCc1sc(CCC(=O)CSCCCc2ccccc2)nc1CCc1ccccc1</td>\n",
       "      <td>39.1</td>\n",
       "    </tr>\n",
       "    <tr>\n",
       "      <th>3</th>\n",
       "      <td>5</td>\n",
       "      <td>CC(=O)OCc1nc(CCC(=O)CSCCCc2ccccc2)sc1CCc1ccccc1</td>\n",
       "      <td>&gt;33</td>\n",
       "    </tr>\n",
       "    <tr>\n",
       "      <th>4</th>\n",
       "      <td>6</td>\n",
       "      <td>NC(=O)CCc1sc(CCC(=O)CSCCCc2ccccc2)nc1CCc1ccccc1</td>\n",
       "      <td>&gt;33</td>\n",
       "    </tr>\n",
       "    <tr>\n",
       "      <th>...</th>\n",
       "      <td>...</td>\n",
       "      <td>...</td>\n",
       "      <td>...</td>\n",
       "    </tr>\n",
       "    <tr>\n",
       "      <th>510</th>\n",
       "      <td>575</td>\n",
       "      <td>Oc1cc(O)c2c(c1)oc(-c1cc(O)c(O)c(O)c1)c(O)c2=O</td>\n",
       "      <td>0.1</td>\n",
       "    </tr>\n",
       "    <tr>\n",
       "      <th>511</th>\n",
       "      <td>576</td>\n",
       "      <td>Oc1cc(O)c2c(c1)oc(-c1ccc(O)c(O)c1)c(O)c2=O</td>\n",
       "      <td>0.3</td>\n",
       "    </tr>\n",
       "    <tr>\n",
       "      <th>512</th>\n",
       "      <td>577</td>\n",
       "      <td>Oc1ccc(c(O)c1)-c1oc2cc(O)cc(O)c2c(=O)c1O</td>\n",
       "      <td>0.2</td>\n",
       "    </tr>\n",
       "    <tr>\n",
       "      <th>513</th>\n",
       "      <td>578</td>\n",
       "      <td>O[C@@H]1[C@H](Oc2cc(O)cc(O)c2C1=O)c1ccc(O)c(O)c1</td>\n",
       "      <td>NaN</td>\n",
       "    </tr>\n",
       "    <tr>\n",
       "      <th>514</th>\n",
       "      <td>579</td>\n",
       "      <td>Oc1ccc2c(c1)oc(-c1ccc(O)c(O)c1)c(O)c2=O</td>\n",
       "      <td>0.3</td>\n",
       "    </tr>\n",
       "  </tbody>\n",
       "</table>\n",
       "<p>515 rows × 3 columns</p>\n",
       "</div>"
      ],
      "text/plain": [
       "     Compound                                             SMILE FP-2 IC50 (uM)\n",
       "0           2    OCCCc1sc(\\C=C\\C(=O)CSCCCc2ccccc2)nc1CCc1ccccc1            6.6\n",
       "1           3       OCCCc1sc(CCC(=O)CSCCCc2ccccc2)nc1CCc1ccccc1          >12.5\n",
       "2           4      O=CCCc1sc(CCC(=O)CSCCCc2ccccc2)nc1CCc1ccccc1           39.1\n",
       "3           5   CC(=O)OCc1nc(CCC(=O)CSCCCc2ccccc2)sc1CCc1ccccc1            >33\n",
       "4           6   NC(=O)CCc1sc(CCC(=O)CSCCCc2ccccc2)nc1CCc1ccccc1            >33\n",
       "..        ...                                               ...            ...\n",
       "510       575     Oc1cc(O)c2c(c1)oc(-c1cc(O)c(O)c(O)c1)c(O)c2=O            0.1\n",
       "511       576        Oc1cc(O)c2c(c1)oc(-c1ccc(O)c(O)c1)c(O)c2=O            0.3\n",
       "512       577          Oc1ccc(c(O)c1)-c1oc2cc(O)cc(O)c2c(=O)c1O            0.2\n",
       "513       578  O[C@@H]1[C@H](Oc2cc(O)cc(O)c2C1=O)c1ccc(O)c(O)c1            NaN\n",
       "514       579           Oc1ccc2c(c1)oc(-c1ccc(O)c(O)c1)c(O)c2=O            0.3\n",
       "\n",
       "[515 rows x 3 columns]"
      ]
     },
     "execution_count": 85,
     "metadata": {},
     "output_type": "execute_result"
    }
   ],
   "source": [
    "smiles_ic50 = raw_data.drop([\"FP-2 inhibition rate at 10 uM (%)\", \"FP-2 inhibition rate at 20 uM (%)\"], axis=1)\n",
    "smiles_ic50"
   ]
  },
  {
   "cell_type": "code",
   "execution_count": 86,
   "id": "7236c710",
   "metadata": {},
   "outputs": [
    {
     "data": {
      "text/plain": [
       "Compound           0\n",
       "SMILE              0\n",
       "FP-2 IC50 (uM)    66\n",
       "dtype: int64"
      ]
     },
     "execution_count": 86,
     "metadata": {},
     "output_type": "execute_result"
    }
   ],
   "source": [
    "smiles_ic50.isna().sum()"
   ]
  },
  {
   "cell_type": "code",
   "execution_count": 87,
   "id": "7670b940",
   "metadata": {},
   "outputs": [
    {
     "data": {
      "text/html": [
       "<div>\n",
       "<style scoped>\n",
       "    .dataframe tbody tr th:only-of-type {\n",
       "        vertical-align: middle;\n",
       "    }\n",
       "\n",
       "    .dataframe tbody tr th {\n",
       "        vertical-align: top;\n",
       "    }\n",
       "\n",
       "    .dataframe thead th {\n",
       "        text-align: right;\n",
       "    }\n",
       "</style>\n",
       "<table border=\"1\" class=\"dataframe\">\n",
       "  <thead>\n",
       "    <tr style=\"text-align: right;\">\n",
       "      <th></th>\n",
       "      <th>Compound</th>\n",
       "      <th>SMILE</th>\n",
       "      <th>FP-2 IC50 (uM)</th>\n",
       "    </tr>\n",
       "  </thead>\n",
       "  <tbody>\n",
       "    <tr>\n",
       "      <th>0</th>\n",
       "      <td>2</td>\n",
       "      <td>OCCCc1sc(\\C=C\\C(=O)CSCCCc2ccccc2)nc1CCc1ccccc1</td>\n",
       "      <td>6.6</td>\n",
       "    </tr>\n",
       "    <tr>\n",
       "      <th>1</th>\n",
       "      <td>3</td>\n",
       "      <td>OCCCc1sc(CCC(=O)CSCCCc2ccccc2)nc1CCc1ccccc1</td>\n",
       "      <td>&gt;12.5</td>\n",
       "    </tr>\n",
       "    <tr>\n",
       "      <th>2</th>\n",
       "      <td>4</td>\n",
       "      <td>O=CCCc1sc(CCC(=O)CSCCCc2ccccc2)nc1CCc1ccccc1</td>\n",
       "      <td>39.1</td>\n",
       "    </tr>\n",
       "    <tr>\n",
       "      <th>3</th>\n",
       "      <td>5</td>\n",
       "      <td>CC(=O)OCc1nc(CCC(=O)CSCCCc2ccccc2)sc1CCc1ccccc1</td>\n",
       "      <td>&gt;33</td>\n",
       "    </tr>\n",
       "    <tr>\n",
       "      <th>4</th>\n",
       "      <td>6</td>\n",
       "      <td>NC(=O)CCc1sc(CCC(=O)CSCCCc2ccccc2)nc1CCc1ccccc1</td>\n",
       "      <td>&gt;33</td>\n",
       "    </tr>\n",
       "    <tr>\n",
       "      <th>...</th>\n",
       "      <td>...</td>\n",
       "      <td>...</td>\n",
       "      <td>...</td>\n",
       "    </tr>\n",
       "    <tr>\n",
       "      <th>509</th>\n",
       "      <td>574</td>\n",
       "      <td>Oc1ccc(cc1)-c1oc2cc(O)cc(O)c2c(=O)c1O</td>\n",
       "      <td>0.2</td>\n",
       "    </tr>\n",
       "    <tr>\n",
       "      <th>510</th>\n",
       "      <td>575</td>\n",
       "      <td>Oc1cc(O)c2c(c1)oc(-c1cc(O)c(O)c(O)c1)c(O)c2=O</td>\n",
       "      <td>0.1</td>\n",
       "    </tr>\n",
       "    <tr>\n",
       "      <th>511</th>\n",
       "      <td>576</td>\n",
       "      <td>Oc1cc(O)c2c(c1)oc(-c1ccc(O)c(O)c1)c(O)c2=O</td>\n",
       "      <td>0.3</td>\n",
       "    </tr>\n",
       "    <tr>\n",
       "      <th>512</th>\n",
       "      <td>577</td>\n",
       "      <td>Oc1ccc(c(O)c1)-c1oc2cc(O)cc(O)c2c(=O)c1O</td>\n",
       "      <td>0.2</td>\n",
       "    </tr>\n",
       "    <tr>\n",
       "      <th>514</th>\n",
       "      <td>579</td>\n",
       "      <td>Oc1ccc2c(c1)oc(-c1ccc(O)c(O)c1)c(O)c2=O</td>\n",
       "      <td>0.3</td>\n",
       "    </tr>\n",
       "  </tbody>\n",
       "</table>\n",
       "<p>449 rows × 3 columns</p>\n",
       "</div>"
      ],
      "text/plain": [
       "     Compound                                            SMILE FP-2 IC50 (uM)\n",
       "0           2   OCCCc1sc(\\C=C\\C(=O)CSCCCc2ccccc2)nc1CCc1ccccc1            6.6\n",
       "1           3      OCCCc1sc(CCC(=O)CSCCCc2ccccc2)nc1CCc1ccccc1          >12.5\n",
       "2           4     O=CCCc1sc(CCC(=O)CSCCCc2ccccc2)nc1CCc1ccccc1           39.1\n",
       "3           5  CC(=O)OCc1nc(CCC(=O)CSCCCc2ccccc2)sc1CCc1ccccc1            >33\n",
       "4           6  NC(=O)CCc1sc(CCC(=O)CSCCCc2ccccc2)nc1CCc1ccccc1            >33\n",
       "..        ...                                              ...            ...\n",
       "509       574            Oc1ccc(cc1)-c1oc2cc(O)cc(O)c2c(=O)c1O            0.2\n",
       "510       575    Oc1cc(O)c2c(c1)oc(-c1cc(O)c(O)c(O)c1)c(O)c2=O            0.1\n",
       "511       576       Oc1cc(O)c2c(c1)oc(-c1ccc(O)c(O)c1)c(O)c2=O            0.3\n",
       "512       577         Oc1ccc(c(O)c1)-c1oc2cc(O)cc(O)c2c(=O)c1O            0.2\n",
       "514       579          Oc1ccc2c(c1)oc(-c1ccc(O)c(O)c1)c(O)c2=O            0.3\n",
       "\n",
       "[449 rows x 3 columns]"
      ]
     },
     "execution_count": 87,
     "metadata": {},
     "output_type": "execute_result"
    }
   ],
   "source": [
    "smiles_ic50_no_nan = smiles_ic50.dropna(axis=0, how='any')\n",
    "smiles_ic50_no_nan"
   ]
  },
  {
   "cell_type": "code",
   "execution_count": 67,
   "id": "133b6d6d",
   "metadata": {},
   "outputs": [
    {
     "ename": "KeyError",
     "evalue": "317",
     "output_type": "error",
     "traceback": [
      "\u001b[1;31m---------------------------------------------------------------------------\u001b[0m",
      "\u001b[1;31mKeyError\u001b[0m                                  Traceback (most recent call last)",
      "\u001b[1;32m~\\miniconda3\\envs\\bio-env\\lib\\site-packages\\pandas\\core\\indexes\\base.py\u001b[0m in \u001b[0;36mget_loc\u001b[1;34m(self, key, method, tolerance)\u001b[0m\n\u001b[0;32m   3360\u001b[0m             \u001b[1;32mtry\u001b[0m\u001b[1;33m:\u001b[0m\u001b[1;33m\u001b[0m\u001b[1;33m\u001b[0m\u001b[0m\n\u001b[1;32m-> 3361\u001b[1;33m                 \u001b[1;32mreturn\u001b[0m \u001b[0mself\u001b[0m\u001b[1;33m.\u001b[0m\u001b[0m_engine\u001b[0m\u001b[1;33m.\u001b[0m\u001b[0mget_loc\u001b[0m\u001b[1;33m(\u001b[0m\u001b[0mcasted_key\u001b[0m\u001b[1;33m)\u001b[0m\u001b[1;33m\u001b[0m\u001b[1;33m\u001b[0m\u001b[0m\n\u001b[0m\u001b[0;32m   3362\u001b[0m             \u001b[1;32mexcept\u001b[0m \u001b[0mKeyError\u001b[0m \u001b[1;32mas\u001b[0m \u001b[0merr\u001b[0m\u001b[1;33m:\u001b[0m\u001b[1;33m\u001b[0m\u001b[1;33m\u001b[0m\u001b[0m\n",
      "\u001b[1;32m~\\miniconda3\\envs\\bio-env\\lib\\site-packages\\pandas\\_libs\\index.pyx\u001b[0m in \u001b[0;36mpandas._libs.index.IndexEngine.get_loc\u001b[1;34m()\u001b[0m\n",
      "\u001b[1;32m~\\miniconda3\\envs\\bio-env\\lib\\site-packages\\pandas\\_libs\\index.pyx\u001b[0m in \u001b[0;36mpandas._libs.index.IndexEngine.get_loc\u001b[1;34m()\u001b[0m\n",
      "\u001b[1;32mpandas\\_libs\\hashtable_class_helper.pxi\u001b[0m in \u001b[0;36mpandas._libs.hashtable.Int64HashTable.get_item\u001b[1;34m()\u001b[0m\n",
      "\u001b[1;32mpandas\\_libs\\hashtable_class_helper.pxi\u001b[0m in \u001b[0;36mpandas._libs.hashtable.Int64HashTable.get_item\u001b[1;34m()\u001b[0m\n",
      "\u001b[1;31mKeyError\u001b[0m: 317",
      "\nThe above exception was the direct cause of the following exception:\n",
      "\u001b[1;31mKeyError\u001b[0m                                  Traceback (most recent call last)",
      "\u001b[1;32m~\\AppData\\Local\\Temp/ipykernel_12660/113434457.py\u001b[0m in \u001b[0;36m<module>\u001b[1;34m\u001b[0m\n\u001b[0;32m      1\u001b[0m \u001b[1;32mfor\u001b[0m \u001b[0mi\u001b[0m \u001b[1;32min\u001b[0m \u001b[0mrange\u001b[0m\u001b[1;33m(\u001b[0m\u001b[0mlen\u001b[0m\u001b[1;33m(\u001b[0m\u001b[0msmiles_ic50_no_nan\u001b[0m\u001b[1;33m)\u001b[0m\u001b[1;33m)\u001b[0m\u001b[1;33m:\u001b[0m\u001b[1;33m\u001b[0m\u001b[1;33m\u001b[0m\u001b[0m\n\u001b[1;32m----> 2\u001b[1;33m     \u001b[1;32mif\u001b[0m \u001b[1;34m'>'\u001b[0m \u001b[1;32min\u001b[0m \u001b[0msmiles_ic50_no_nan\u001b[0m\u001b[1;33m[\u001b[0m\u001b[1;34m\"FP-2 IC50 (uM)\"\u001b[0m\u001b[1;33m]\u001b[0m\u001b[1;33m[\u001b[0m\u001b[0mi\u001b[0m\u001b[1;33m]\u001b[0m\u001b[1;33m:\u001b[0m\u001b[1;33m\u001b[0m\u001b[1;33m\u001b[0m\u001b[0m\n\u001b[0m\u001b[0;32m      3\u001b[0m         \u001b[1;32mpass\u001b[0m\u001b[1;33m\u001b[0m\u001b[1;33m\u001b[0m\u001b[0m\n",
      "\u001b[1;32m~\\miniconda3\\envs\\bio-env\\lib\\site-packages\\pandas\\core\\series.py\u001b[0m in \u001b[0;36m__getitem__\u001b[1;34m(self, key)\u001b[0m\n\u001b[0;32m    940\u001b[0m \u001b[1;33m\u001b[0m\u001b[0m\n\u001b[0;32m    941\u001b[0m         \u001b[1;32melif\u001b[0m \u001b[0mkey_is_scalar\u001b[0m\u001b[1;33m:\u001b[0m\u001b[1;33m\u001b[0m\u001b[1;33m\u001b[0m\u001b[0m\n\u001b[1;32m--> 942\u001b[1;33m             \u001b[1;32mreturn\u001b[0m \u001b[0mself\u001b[0m\u001b[1;33m.\u001b[0m\u001b[0m_get_value\u001b[0m\u001b[1;33m(\u001b[0m\u001b[0mkey\u001b[0m\u001b[1;33m)\u001b[0m\u001b[1;33m\u001b[0m\u001b[1;33m\u001b[0m\u001b[0m\n\u001b[0m\u001b[0;32m    943\u001b[0m \u001b[1;33m\u001b[0m\u001b[0m\n\u001b[0;32m    944\u001b[0m         \u001b[1;32mif\u001b[0m \u001b[0mis_hashable\u001b[0m\u001b[1;33m(\u001b[0m\u001b[0mkey\u001b[0m\u001b[1;33m)\u001b[0m\u001b[1;33m:\u001b[0m\u001b[1;33m\u001b[0m\u001b[1;33m\u001b[0m\u001b[0m\n",
      "\u001b[1;32m~\\miniconda3\\envs\\bio-env\\lib\\site-packages\\pandas\\core\\series.py\u001b[0m in \u001b[0;36m_get_value\u001b[1;34m(self, label, takeable)\u001b[0m\n\u001b[0;32m   1049\u001b[0m \u001b[1;33m\u001b[0m\u001b[0m\n\u001b[0;32m   1050\u001b[0m         \u001b[1;31m# Similar to Index.get_value, but we do not fall back to positional\u001b[0m\u001b[1;33m\u001b[0m\u001b[1;33m\u001b[0m\u001b[1;33m\u001b[0m\u001b[0m\n\u001b[1;32m-> 1051\u001b[1;33m         \u001b[0mloc\u001b[0m \u001b[1;33m=\u001b[0m \u001b[0mself\u001b[0m\u001b[1;33m.\u001b[0m\u001b[0mindex\u001b[0m\u001b[1;33m.\u001b[0m\u001b[0mget_loc\u001b[0m\u001b[1;33m(\u001b[0m\u001b[0mlabel\u001b[0m\u001b[1;33m)\u001b[0m\u001b[1;33m\u001b[0m\u001b[1;33m\u001b[0m\u001b[0m\n\u001b[0m\u001b[0;32m   1052\u001b[0m         \u001b[1;32mreturn\u001b[0m \u001b[0mself\u001b[0m\u001b[1;33m.\u001b[0m\u001b[0mindex\u001b[0m\u001b[1;33m.\u001b[0m\u001b[0m_get_values_for_loc\u001b[0m\u001b[1;33m(\u001b[0m\u001b[0mself\u001b[0m\u001b[1;33m,\u001b[0m \u001b[0mloc\u001b[0m\u001b[1;33m,\u001b[0m \u001b[0mlabel\u001b[0m\u001b[1;33m)\u001b[0m\u001b[1;33m\u001b[0m\u001b[1;33m\u001b[0m\u001b[0m\n\u001b[0;32m   1053\u001b[0m \u001b[1;33m\u001b[0m\u001b[0m\n",
      "\u001b[1;32m~\\miniconda3\\envs\\bio-env\\lib\\site-packages\\pandas\\core\\indexes\\base.py\u001b[0m in \u001b[0;36mget_loc\u001b[1;34m(self, key, method, tolerance)\u001b[0m\n\u001b[0;32m   3361\u001b[0m                 \u001b[1;32mreturn\u001b[0m \u001b[0mself\u001b[0m\u001b[1;33m.\u001b[0m\u001b[0m_engine\u001b[0m\u001b[1;33m.\u001b[0m\u001b[0mget_loc\u001b[0m\u001b[1;33m(\u001b[0m\u001b[0mcasted_key\u001b[0m\u001b[1;33m)\u001b[0m\u001b[1;33m\u001b[0m\u001b[1;33m\u001b[0m\u001b[0m\n\u001b[0;32m   3362\u001b[0m             \u001b[1;32mexcept\u001b[0m \u001b[0mKeyError\u001b[0m \u001b[1;32mas\u001b[0m \u001b[0merr\u001b[0m\u001b[1;33m:\u001b[0m\u001b[1;33m\u001b[0m\u001b[1;33m\u001b[0m\u001b[0m\n\u001b[1;32m-> 3363\u001b[1;33m                 \u001b[1;32mraise\u001b[0m \u001b[0mKeyError\u001b[0m\u001b[1;33m(\u001b[0m\u001b[0mkey\u001b[0m\u001b[1;33m)\u001b[0m \u001b[1;32mfrom\u001b[0m \u001b[0merr\u001b[0m\u001b[1;33m\u001b[0m\u001b[1;33m\u001b[0m\u001b[0m\n\u001b[0m\u001b[0;32m   3364\u001b[0m \u001b[1;33m\u001b[0m\u001b[0m\n\u001b[0;32m   3365\u001b[0m         \u001b[1;32mif\u001b[0m \u001b[0mis_scalar\u001b[0m\u001b[1;33m(\u001b[0m\u001b[0mkey\u001b[0m\u001b[1;33m)\u001b[0m \u001b[1;32mand\u001b[0m \u001b[0misna\u001b[0m\u001b[1;33m(\u001b[0m\u001b[0mkey\u001b[0m\u001b[1;33m)\u001b[0m \u001b[1;32mand\u001b[0m \u001b[1;32mnot\u001b[0m \u001b[0mself\u001b[0m\u001b[1;33m.\u001b[0m\u001b[0mhasnans\u001b[0m\u001b[1;33m:\u001b[0m\u001b[1;33m\u001b[0m\u001b[1;33m\u001b[0m\u001b[0m\n",
      "\u001b[1;31mKeyError\u001b[0m: 317"
     ]
    }
   ],
   "source": [
    "# for i in range(len(smiles_ic50_no_nan)):\n",
    "#     if '>' in smiles_ic50_no_nan[\"FP-2 IC50 (uM)\"]:\n",
    "#         pass"
   ]
  },
  {
   "cell_type": "code",
   "execution_count": 100,
   "id": "85ed45e8",
   "metadata": {},
   "outputs": [
    {
     "data": {
      "text/plain": [
       "449"
      ]
     },
     "execution_count": 100,
     "metadata": {},
     "output_type": "execute_result"
    }
   ],
   "source": [
    "len(smiles_ic50_no_nan)"
   ]
  },
  {
   "cell_type": "code",
   "execution_count": 71,
   "id": "1758717c",
   "metadata": {},
   "outputs": [
    {
     "data": {
      "text/plain": [
       "'6.6'"
      ]
     },
     "execution_count": 71,
     "metadata": {},
     "output_type": "execute_result"
    }
   ],
   "source": [
    "smiles_ic50_no_nan[\"FP-2 IC50 (uM)\"][0]"
   ]
  },
  {
   "cell_type": "code",
   "execution_count": 90,
   "id": "3468d2c4",
   "metadata": {},
   "outputs": [
    {
     "data": {
      "text/plain": [
       "True"
      ]
     },
     "execution_count": 90,
     "metadata": {},
     "output_type": "execute_result"
    }
   ],
   "source": [
    "\n",
    "'>' in smiles_ic50_no_nan[\"FP-2 IC50 (uM)\"][3]"
   ]
  },
  {
   "cell_type": "code",
   "execution_count": 99,
   "id": "f26befb3",
   "metadata": {},
   "outputs": [
    {
     "data": {
      "text/html": [
       "<div>\n",
       "<style scoped>\n",
       "    .dataframe tbody tr th:only-of-type {\n",
       "        vertical-align: middle;\n",
       "    }\n",
       "\n",
       "    .dataframe tbody tr th {\n",
       "        vertical-align: top;\n",
       "    }\n",
       "\n",
       "    .dataframe thead th {\n",
       "        text-align: right;\n",
       "    }\n",
       "</style>\n",
       "<table border=\"1\" class=\"dataframe\">\n",
       "  <thead>\n",
       "    <tr style=\"text-align: right;\">\n",
       "      <th></th>\n",
       "      <th>Compound</th>\n",
       "      <th>SMILE</th>\n",
       "      <th>FP-2 IC50 (uM)</th>\n",
       "    </tr>\n",
       "  </thead>\n",
       "  <tbody>\n",
       "    <tr>\n",
       "      <th>1</th>\n",
       "      <td>3</td>\n",
       "      <td>OCCCc1sc(CCC(=O)CSCCCc2ccccc2)nc1CCc1ccccc1</td>\n",
       "      <td>&gt;12.5</td>\n",
       "    </tr>\n",
       "    <tr>\n",
       "      <th>3</th>\n",
       "      <td>5</td>\n",
       "      <td>CC(=O)OCc1nc(CCC(=O)CSCCCc2ccccc2)sc1CCc1ccccc1</td>\n",
       "      <td>&gt;33</td>\n",
       "    </tr>\n",
       "    <tr>\n",
       "      <th>4</th>\n",
       "      <td>6</td>\n",
       "      <td>NC(=O)CCc1sc(CCC(=O)CSCCCc2ccccc2)nc1CCc1ccccc1</td>\n",
       "      <td>&gt;33</td>\n",
       "    </tr>\n",
       "    <tr>\n",
       "      <th>6</th>\n",
       "      <td>9</td>\n",
       "      <td>OCc1nc(CCC(=O)CSCCCc2ccccc2)sc1CCc1ccccc1</td>\n",
       "      <td>&gt;12.56</td>\n",
       "    </tr>\n",
       "    <tr>\n",
       "      <th>7</th>\n",
       "      <td>10</td>\n",
       "      <td>CC(=O)NCCCc1sc(CCC(=O)CSCCCc2ccccc2)nc1CCc1ccccc1</td>\n",
       "      <td>&gt;33</td>\n",
       "    </tr>\n",
       "    <tr>\n",
       "      <th>...</th>\n",
       "      <td>...</td>\n",
       "      <td>...</td>\n",
       "      <td>...</td>\n",
       "    </tr>\n",
       "    <tr>\n",
       "      <th>497</th>\n",
       "      <td>561</td>\n",
       "      <td>CC(=O)c1ccc(NC(=O)CSc2nnc(COc3ccc4cccnc4c3)n2-...</td>\n",
       "      <td>&gt;50</td>\n",
       "    </tr>\n",
       "    <tr>\n",
       "      <th>498</th>\n",
       "      <td>562</td>\n",
       "      <td>COc1ccc(cc1)C(=O)NNC(=O)CSc1nnc(COc2ccc3cccnc3...</td>\n",
       "      <td>&gt;50</td>\n",
       "    </tr>\n",
       "    <tr>\n",
       "      <th>499</th>\n",
       "      <td>563</td>\n",
       "      <td>COc1cccc(\\C=N\\NC(=O)C2=NN(Cc3ccc(Cl)cc3Cl)CC2)c1O</td>\n",
       "      <td>&gt;50</td>\n",
       "    </tr>\n",
       "    <tr>\n",
       "      <th>500</th>\n",
       "      <td>564</td>\n",
       "      <td>CC(NC(=O)COc1ccc2ccccc2c1)C(=O)N\\N=C\\c1cccc(Cl...</td>\n",
       "      <td>&gt;50</td>\n",
       "    </tr>\n",
       "    <tr>\n",
       "      <th>501</th>\n",
       "      <td>565</td>\n",
       "      <td>CCc1ccc(OCc2nnc(SCC(=O)Nc3cccc4ccccc34)o2)cc1</td>\n",
       "      <td>&gt;50</td>\n",
       "    </tr>\n",
       "  </tbody>\n",
       "</table>\n",
       "<p>127 rows × 3 columns</p>\n",
       "</div>"
      ],
      "text/plain": [
       "     Compound                                              SMILE  \\\n",
       "1           3        OCCCc1sc(CCC(=O)CSCCCc2ccccc2)nc1CCc1ccccc1   \n",
       "3           5    CC(=O)OCc1nc(CCC(=O)CSCCCc2ccccc2)sc1CCc1ccccc1   \n",
       "4           6    NC(=O)CCc1sc(CCC(=O)CSCCCc2ccccc2)nc1CCc1ccccc1   \n",
       "6           9          OCc1nc(CCC(=O)CSCCCc2ccccc2)sc1CCc1ccccc1   \n",
       "7          10  CC(=O)NCCCc1sc(CCC(=O)CSCCCc2ccccc2)nc1CCc1ccccc1   \n",
       "..        ...                                                ...   \n",
       "497       561  CC(=O)c1ccc(NC(=O)CSc2nnc(COc3ccc4cccnc4c3)n2-...   \n",
       "498       562  COc1ccc(cc1)C(=O)NNC(=O)CSc1nnc(COc2ccc3cccnc3...   \n",
       "499       563  COc1cccc(\\C=N\\NC(=O)C2=NN(Cc3ccc(Cl)cc3Cl)CC2)c1O   \n",
       "500       564  CC(NC(=O)COc1ccc2ccccc2c1)C(=O)N\\N=C\\c1cccc(Cl...   \n",
       "501       565      CCc1ccc(OCc2nnc(SCC(=O)Nc3cccc4ccccc34)o2)cc1   \n",
       "\n",
       "    FP-2 IC50 (uM)  \n",
       "1            >12.5  \n",
       "3              >33  \n",
       "4              >33  \n",
       "6           >12.56  \n",
       "7              >33  \n",
       "..             ...  \n",
       "497            >50  \n",
       "498            >50  \n",
       "499            >50  \n",
       "500            >50  \n",
       "501            >50  \n",
       "\n",
       "[127 rows x 3 columns]"
      ]
     },
     "execution_count": 99,
     "metadata": {},
     "output_type": "execute_result"
    }
   ],
   "source": [
    "smiles_ic50_no_nan.loc[smiles_ic50_no_nan[\"FP-2 IC50 (uM)\"].str.startswith('>')]"
   ]
  },
  {
   "cell_type": "code",
   "execution_count": 106,
   "id": "de2783af",
   "metadata": {},
   "outputs": [
    {
     "ename": "KeyError",
     "evalue": "\"['Compound' 'SMILE' 'FP-2 IC50 (uM)'] not found in axis\"",
     "output_type": "error",
     "traceback": [
      "\u001b[1;31m---------------------------------------------------------------------------\u001b[0m",
      "\u001b[1;31mKeyError\u001b[0m                                  Traceback (most recent call last)",
      "\u001b[1;32m~\\AppData\\Local\\Temp/ipykernel_12660/2286393904.py\u001b[0m in \u001b[0;36m<module>\u001b[1;34m\u001b[0m\n\u001b[1;32m----> 1\u001b[1;33m \u001b[0mcek\u001b[0m \u001b[1;33m=\u001b[0m \u001b[0msmiles_ic50_no_nan\u001b[0m\u001b[1;33m.\u001b[0m\u001b[0mdrop\u001b[0m\u001b[1;33m(\u001b[0m\u001b[0msmiles_ic50_no_nan\u001b[0m\u001b[1;33m[\u001b[0m\u001b[0msmiles_ic50_no_nan\u001b[0m\u001b[1;33m[\u001b[0m\u001b[1;34m\"FP-2 IC50 (uM)\"\u001b[0m\u001b[1;33m]\u001b[0m\u001b[1;33m.\u001b[0m\u001b[0mstr\u001b[0m\u001b[1;33m.\u001b[0m\u001b[0mstartswith\u001b[0m\u001b[1;33m(\u001b[0m\u001b[1;34m'>'\u001b[0m\u001b[1;33m)\u001b[0m\u001b[1;33m]\u001b[0m\u001b[1;33m,\u001b[0m \u001b[0maxis\u001b[0m\u001b[1;33m=\u001b[0m\u001b[1;36m0\u001b[0m\u001b[1;33m)\u001b[0m\u001b[1;33m\u001b[0m\u001b[1;33m\u001b[0m\u001b[0m\n\u001b[0m\u001b[0;32m      2\u001b[0m \u001b[0mcek\u001b[0m\u001b[1;33m\u001b[0m\u001b[1;33m\u001b[0m\u001b[0m\n",
      "\u001b[1;32m~\\miniconda3\\envs\\bio-env\\lib\\site-packages\\pandas\\util\\_decorators.py\u001b[0m in \u001b[0;36mwrapper\u001b[1;34m(*args, **kwargs)\u001b[0m\n\u001b[0;32m    309\u001b[0m                     \u001b[0mstacklevel\u001b[0m\u001b[1;33m=\u001b[0m\u001b[0mstacklevel\u001b[0m\u001b[1;33m,\u001b[0m\u001b[1;33m\u001b[0m\u001b[1;33m\u001b[0m\u001b[0m\n\u001b[0;32m    310\u001b[0m                 )\n\u001b[1;32m--> 311\u001b[1;33m             \u001b[1;32mreturn\u001b[0m \u001b[0mfunc\u001b[0m\u001b[1;33m(\u001b[0m\u001b[1;33m*\u001b[0m\u001b[0margs\u001b[0m\u001b[1;33m,\u001b[0m \u001b[1;33m**\u001b[0m\u001b[0mkwargs\u001b[0m\u001b[1;33m)\u001b[0m\u001b[1;33m\u001b[0m\u001b[1;33m\u001b[0m\u001b[0m\n\u001b[0m\u001b[0;32m    312\u001b[0m \u001b[1;33m\u001b[0m\u001b[0m\n\u001b[0;32m    313\u001b[0m         \u001b[1;32mreturn\u001b[0m \u001b[0mwrapper\u001b[0m\u001b[1;33m\u001b[0m\u001b[1;33m\u001b[0m\u001b[0m\n",
      "\u001b[1;32m~\\miniconda3\\envs\\bio-env\\lib\\site-packages\\pandas\\core\\frame.py\u001b[0m in \u001b[0;36mdrop\u001b[1;34m(self, labels, axis, index, columns, level, inplace, errors)\u001b[0m\n\u001b[0;32m   4911\u001b[0m             \u001b[0mlevel\u001b[0m\u001b[1;33m=\u001b[0m\u001b[0mlevel\u001b[0m\u001b[1;33m,\u001b[0m\u001b[1;33m\u001b[0m\u001b[1;33m\u001b[0m\u001b[0m\n\u001b[0;32m   4912\u001b[0m             \u001b[0minplace\u001b[0m\u001b[1;33m=\u001b[0m\u001b[0minplace\u001b[0m\u001b[1;33m,\u001b[0m\u001b[1;33m\u001b[0m\u001b[1;33m\u001b[0m\u001b[0m\n\u001b[1;32m-> 4913\u001b[1;33m             \u001b[0merrors\u001b[0m\u001b[1;33m=\u001b[0m\u001b[0merrors\u001b[0m\u001b[1;33m,\u001b[0m\u001b[1;33m\u001b[0m\u001b[1;33m\u001b[0m\u001b[0m\n\u001b[0m\u001b[0;32m   4914\u001b[0m         )\n\u001b[0;32m   4915\u001b[0m \u001b[1;33m\u001b[0m\u001b[0m\n",
      "\u001b[1;32m~\\miniconda3\\envs\\bio-env\\lib\\site-packages\\pandas\\core\\generic.py\u001b[0m in \u001b[0;36mdrop\u001b[1;34m(self, labels, axis, index, columns, level, inplace, errors)\u001b[0m\n\u001b[0;32m   4148\u001b[0m         \u001b[1;32mfor\u001b[0m \u001b[0maxis\u001b[0m\u001b[1;33m,\u001b[0m \u001b[0mlabels\u001b[0m \u001b[1;32min\u001b[0m \u001b[0maxes\u001b[0m\u001b[1;33m.\u001b[0m\u001b[0mitems\u001b[0m\u001b[1;33m(\u001b[0m\u001b[1;33m)\u001b[0m\u001b[1;33m:\u001b[0m\u001b[1;33m\u001b[0m\u001b[1;33m\u001b[0m\u001b[0m\n\u001b[0;32m   4149\u001b[0m             \u001b[1;32mif\u001b[0m \u001b[0mlabels\u001b[0m \u001b[1;32mis\u001b[0m \u001b[1;32mnot\u001b[0m \u001b[1;32mNone\u001b[0m\u001b[1;33m:\u001b[0m\u001b[1;33m\u001b[0m\u001b[1;33m\u001b[0m\u001b[0m\n\u001b[1;32m-> 4150\u001b[1;33m                 \u001b[0mobj\u001b[0m \u001b[1;33m=\u001b[0m \u001b[0mobj\u001b[0m\u001b[1;33m.\u001b[0m\u001b[0m_drop_axis\u001b[0m\u001b[1;33m(\u001b[0m\u001b[0mlabels\u001b[0m\u001b[1;33m,\u001b[0m \u001b[0maxis\u001b[0m\u001b[1;33m,\u001b[0m \u001b[0mlevel\u001b[0m\u001b[1;33m=\u001b[0m\u001b[0mlevel\u001b[0m\u001b[1;33m,\u001b[0m \u001b[0merrors\u001b[0m\u001b[1;33m=\u001b[0m\u001b[0merrors\u001b[0m\u001b[1;33m)\u001b[0m\u001b[1;33m\u001b[0m\u001b[1;33m\u001b[0m\u001b[0m\n\u001b[0m\u001b[0;32m   4151\u001b[0m \u001b[1;33m\u001b[0m\u001b[0m\n\u001b[0;32m   4152\u001b[0m         \u001b[1;32mif\u001b[0m \u001b[0minplace\u001b[0m\u001b[1;33m:\u001b[0m\u001b[1;33m\u001b[0m\u001b[1;33m\u001b[0m\u001b[0m\n",
      "\u001b[1;32m~\\miniconda3\\envs\\bio-env\\lib\\site-packages\\pandas\\core\\generic.py\u001b[0m in \u001b[0;36m_drop_axis\u001b[1;34m(self, labels, axis, level, errors)\u001b[0m\n\u001b[0;32m   4183\u001b[0m                 \u001b[0mnew_axis\u001b[0m \u001b[1;33m=\u001b[0m \u001b[0maxis\u001b[0m\u001b[1;33m.\u001b[0m\u001b[0mdrop\u001b[0m\u001b[1;33m(\u001b[0m\u001b[0mlabels\u001b[0m\u001b[1;33m,\u001b[0m \u001b[0mlevel\u001b[0m\u001b[1;33m=\u001b[0m\u001b[0mlevel\u001b[0m\u001b[1;33m,\u001b[0m \u001b[0merrors\u001b[0m\u001b[1;33m=\u001b[0m\u001b[0merrors\u001b[0m\u001b[1;33m)\u001b[0m\u001b[1;33m\u001b[0m\u001b[1;33m\u001b[0m\u001b[0m\n\u001b[0;32m   4184\u001b[0m             \u001b[1;32melse\u001b[0m\u001b[1;33m:\u001b[0m\u001b[1;33m\u001b[0m\u001b[1;33m\u001b[0m\u001b[0m\n\u001b[1;32m-> 4185\u001b[1;33m                 \u001b[0mnew_axis\u001b[0m \u001b[1;33m=\u001b[0m \u001b[0maxis\u001b[0m\u001b[1;33m.\u001b[0m\u001b[0mdrop\u001b[0m\u001b[1;33m(\u001b[0m\u001b[0mlabels\u001b[0m\u001b[1;33m,\u001b[0m \u001b[0merrors\u001b[0m\u001b[1;33m=\u001b[0m\u001b[0merrors\u001b[0m\u001b[1;33m)\u001b[0m\u001b[1;33m\u001b[0m\u001b[1;33m\u001b[0m\u001b[0m\n\u001b[0m\u001b[0;32m   4186\u001b[0m             \u001b[0mresult\u001b[0m \u001b[1;33m=\u001b[0m \u001b[0mself\u001b[0m\u001b[1;33m.\u001b[0m\u001b[0mreindex\u001b[0m\u001b[1;33m(\u001b[0m\u001b[1;33m**\u001b[0m\u001b[1;33m{\u001b[0m\u001b[0maxis_name\u001b[0m\u001b[1;33m:\u001b[0m \u001b[0mnew_axis\u001b[0m\u001b[1;33m}\u001b[0m\u001b[1;33m)\u001b[0m\u001b[1;33m\u001b[0m\u001b[1;33m\u001b[0m\u001b[0m\n\u001b[0;32m   4187\u001b[0m \u001b[1;33m\u001b[0m\u001b[0m\n",
      "\u001b[1;32m~\\miniconda3\\envs\\bio-env\\lib\\site-packages\\pandas\\core\\indexes\\base.py\u001b[0m in \u001b[0;36mdrop\u001b[1;34m(self, labels, errors)\u001b[0m\n\u001b[0;32m   6015\u001b[0m         \u001b[1;32mif\u001b[0m \u001b[0mmask\u001b[0m\u001b[1;33m.\u001b[0m\u001b[0many\u001b[0m\u001b[1;33m(\u001b[0m\u001b[1;33m)\u001b[0m\u001b[1;33m:\u001b[0m\u001b[1;33m\u001b[0m\u001b[1;33m\u001b[0m\u001b[0m\n\u001b[0;32m   6016\u001b[0m             \u001b[1;32mif\u001b[0m \u001b[0merrors\u001b[0m \u001b[1;33m!=\u001b[0m \u001b[1;34m\"ignore\"\u001b[0m\u001b[1;33m:\u001b[0m\u001b[1;33m\u001b[0m\u001b[1;33m\u001b[0m\u001b[0m\n\u001b[1;32m-> 6017\u001b[1;33m                 \u001b[1;32mraise\u001b[0m \u001b[0mKeyError\u001b[0m\u001b[1;33m(\u001b[0m\u001b[1;34mf\"{labels[mask]} not found in axis\"\u001b[0m\u001b[1;33m)\u001b[0m\u001b[1;33m\u001b[0m\u001b[1;33m\u001b[0m\u001b[0m\n\u001b[0m\u001b[0;32m   6018\u001b[0m             \u001b[0mindexer\u001b[0m \u001b[1;33m=\u001b[0m \u001b[0mindexer\u001b[0m\u001b[1;33m[\u001b[0m\u001b[1;33m~\u001b[0m\u001b[0mmask\u001b[0m\u001b[1;33m]\u001b[0m\u001b[1;33m\u001b[0m\u001b[1;33m\u001b[0m\u001b[0m\n\u001b[0;32m   6019\u001b[0m         \u001b[1;32mreturn\u001b[0m \u001b[0mself\u001b[0m\u001b[1;33m.\u001b[0m\u001b[0mdelete\u001b[0m\u001b[1;33m(\u001b[0m\u001b[0mindexer\u001b[0m\u001b[1;33m)\u001b[0m\u001b[1;33m\u001b[0m\u001b[1;33m\u001b[0m\u001b[0m\n",
      "\u001b[1;31mKeyError\u001b[0m: \"['Compound' 'SMILE' 'FP-2 IC50 (uM)'] not found in axis\""
     ]
    }
   ],
   "source": [
    "cek = smiles_ic50_no_nan.drop(smiles_ic50_no_nan[smiles_ic50_no_nan[\"FP-2 IC50 (uM)\"].str.startswith('>')], axis=0)\n",
    "cek"
   ]
  },
  {
   "cell_type": "code",
   "execution_count": null,
   "id": "791b3ff0",
   "metadata": {},
   "outputs": [],
   "source": [
    "print(df.str.startswith('G'))"
   ]
  },
  {
   "cell_type": "code",
   "execution_count": 116,
   "id": "2478b448",
   "metadata": {},
   "outputs": [
    {
     "data": {
      "text/plain": [
       "314"
      ]
     },
     "execution_count": 116,
     "metadata": {},
     "output_type": "execute_result"
    }
   ],
   "source": [
    "449 - 127 - 8"
   ]
  },
  {
   "cell_type": "code",
   "execution_count": 115,
   "id": "c61ddefb",
   "metadata": {},
   "outputs": [
    {
     "data": {
      "text/html": [
       "<div>\n",
       "<style scoped>\n",
       "    .dataframe tbody tr th:only-of-type {\n",
       "        vertical-align: middle;\n",
       "    }\n",
       "\n",
       "    .dataframe tbody tr th {\n",
       "        vertical-align: top;\n",
       "    }\n",
       "\n",
       "    .dataframe thead th {\n",
       "        text-align: right;\n",
       "    }\n",
       "</style>\n",
       "<table border=\"1\" class=\"dataframe\">\n",
       "  <thead>\n",
       "    <tr style=\"text-align: right;\">\n",
       "      <th></th>\n",
       "      <th>Compound</th>\n",
       "      <th>SMILE</th>\n",
       "      <th>FP-2 IC50 (uM)</th>\n",
       "    </tr>\n",
       "  </thead>\n",
       "  <tbody>\n",
       "    <tr>\n",
       "      <th>0</th>\n",
       "      <td>2</td>\n",
       "      <td>OCCCc1sc(\\C=C\\C(=O)CSCCCc2ccccc2)nc1CCc1ccccc1</td>\n",
       "      <td>6.6</td>\n",
       "    </tr>\n",
       "    <tr>\n",
       "      <th>2</th>\n",
       "      <td>4</td>\n",
       "      <td>O=CCCc1sc(CCC(=O)CSCCCc2ccccc2)nc1CCc1ccccc1</td>\n",
       "      <td>39.1</td>\n",
       "    </tr>\n",
       "    <tr>\n",
       "      <th>5</th>\n",
       "      <td>8</td>\n",
       "      <td>NC(=O)CCc1sc(NC(=O)CSCCCc2ccccc2)nc1\\C=C\\c1ccccc1</td>\n",
       "      <td>15.3</td>\n",
       "    </tr>\n",
       "    <tr>\n",
       "      <th>8</th>\n",
       "      <td>14</td>\n",
       "      <td>CCCC\\C(=N/NC(N)=S)c1ccc(Cl)c(Cl)c1</td>\n",
       "      <td>0.62</td>\n",
       "    </tr>\n",
       "    <tr>\n",
       "      <th>9</th>\n",
       "      <td>15</td>\n",
       "      <td>CC(C)(C)C(=N/NC(N)=S)\\c1ccc(Cl)c(Cl)c1</td>\n",
       "      <td>0.5</td>\n",
       "    </tr>\n",
       "    <tr>\n",
       "      <th>...</th>\n",
       "      <td>...</td>\n",
       "      <td>...</td>\n",
       "      <td>...</td>\n",
       "    </tr>\n",
       "    <tr>\n",
       "      <th>509</th>\n",
       "      <td>574</td>\n",
       "      <td>Oc1ccc(cc1)-c1oc2cc(O)cc(O)c2c(=O)c1O</td>\n",
       "      <td>0.2</td>\n",
       "    </tr>\n",
       "    <tr>\n",
       "      <th>510</th>\n",
       "      <td>575</td>\n",
       "      <td>Oc1cc(O)c2c(c1)oc(-c1cc(O)c(O)c(O)c1)c(O)c2=O</td>\n",
       "      <td>0.1</td>\n",
       "    </tr>\n",
       "    <tr>\n",
       "      <th>511</th>\n",
       "      <td>576</td>\n",
       "      <td>Oc1cc(O)c2c(c1)oc(-c1ccc(O)c(O)c1)c(O)c2=O</td>\n",
       "      <td>0.3</td>\n",
       "    </tr>\n",
       "    <tr>\n",
       "      <th>512</th>\n",
       "      <td>577</td>\n",
       "      <td>Oc1ccc(c(O)c1)-c1oc2cc(O)cc(O)c2c(=O)c1O</td>\n",
       "      <td>0.2</td>\n",
       "    </tr>\n",
       "    <tr>\n",
       "      <th>514</th>\n",
       "      <td>579</td>\n",
       "      <td>Oc1ccc2c(c1)oc(-c1ccc(O)c(O)c1)c(O)c2=O</td>\n",
       "      <td>0.3</td>\n",
       "    </tr>\n",
       "  </tbody>\n",
       "</table>\n",
       "<p>322 rows × 3 columns</p>\n",
       "</div>"
      ],
      "text/plain": [
       "     Compound                                              SMILE  \\\n",
       "0           2     OCCCc1sc(\\C=C\\C(=O)CSCCCc2ccccc2)nc1CCc1ccccc1   \n",
       "2           4       O=CCCc1sc(CCC(=O)CSCCCc2ccccc2)nc1CCc1ccccc1   \n",
       "5           8  NC(=O)CCc1sc(NC(=O)CSCCCc2ccccc2)nc1\\C=C\\c1ccccc1   \n",
       "8          14                 CCCC\\C(=N/NC(N)=S)c1ccc(Cl)c(Cl)c1   \n",
       "9          15             CC(C)(C)C(=N/NC(N)=S)\\c1ccc(Cl)c(Cl)c1   \n",
       "..        ...                                                ...   \n",
       "509       574              Oc1ccc(cc1)-c1oc2cc(O)cc(O)c2c(=O)c1O   \n",
       "510       575      Oc1cc(O)c2c(c1)oc(-c1cc(O)c(O)c(O)c1)c(O)c2=O   \n",
       "511       576         Oc1cc(O)c2c(c1)oc(-c1ccc(O)c(O)c1)c(O)c2=O   \n",
       "512       577           Oc1ccc(c(O)c1)-c1oc2cc(O)cc(O)c2c(=O)c1O   \n",
       "514       579            Oc1ccc2c(c1)oc(-c1ccc(O)c(O)c1)c(O)c2=O   \n",
       "\n",
       "    FP-2 IC50 (uM)  \n",
       "0              6.6  \n",
       "2             39.1  \n",
       "5             15.3  \n",
       "8             0.62  \n",
       "9              0.5  \n",
       "..             ...  \n",
       "509            0.2  \n",
       "510            0.1  \n",
       "511            0.3  \n",
       "512            0.2  \n",
       "514            0.3  \n",
       "\n",
       "[322 rows x 3 columns]"
      ]
     },
     "execution_count": 115,
     "metadata": {},
     "output_type": "execute_result"
    }
   ],
   "source": [
    "smiles_ic50_no_nan.drop(smiles_ic50_no_nan[smiles_ic50_no_nan[\"FP-2 IC50 (uM)\"].str.startswith('>')].index, axis=0, inplace=False)"
   ]
  },
  {
   "cell_type": "code",
   "execution_count": 114,
   "id": "bb40ee26",
   "metadata": {},
   "outputs": [
    {
     "name": "stdout",
     "output_type": "stream",
     "text": [
      "Int64Index([  1,   3,   4,   6,   7,  17,  18,  19,  20,  21,\n",
      "            ...\n",
      "            492, 493, 494, 495, 496, 497, 498, 499, 500, 501],\n",
      "           dtype='int64', length=127)\n"
     ]
    }
   ],
   "source": [
    "print(smiles_ic50_no_nan[smiles_ic50_no_nan[\"FP-2 IC50 (uM)\"].str.startswith('>')].index)"
   ]
  }
 ],
 "metadata": {
  "kernelspec": {
   "display_name": "bio-env",
   "language": "python",
   "name": "bio-env"
  },
  "language_info": {
   "codemirror_mode": {
    "name": "ipython",
    "version": 3
   },
   "file_extension": ".py",
   "mimetype": "text/x-python",
   "name": "python",
   "nbconvert_exporter": "python",
   "pygments_lexer": "ipython3",
   "version": "3.7.11"
  }
 },
 "nbformat": 4,
 "nbformat_minor": 5
}
