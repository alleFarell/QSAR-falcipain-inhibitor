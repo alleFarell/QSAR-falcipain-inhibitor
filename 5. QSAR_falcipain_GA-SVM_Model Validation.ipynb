{
 "cells": [
  {
   "cell_type": "code",
   "execution_count": 1,
   "id": "51f09b81",
   "metadata": {},
   "outputs": [],
   "source": [
    "import pandas as pd\n",
    "import numpy as np\n",
    "import matplotlib.pyplot as plt\n",
    "import joblib\n",
    "from sklearn.metrics import r2_score\n",
    "from sklearn.decomposition import PCA\n",
    "import my_function_m_v2 as my_validation"
   ]
  },
  {
   "cell_type": "code",
   "execution_count": 2,
   "id": "ba8a2e31",
   "metadata": {},
   "outputs": [],
   "source": [
    "best_estimator_linear = joblib.load('Dataset Falcipain/best_estimator_linear.pkl')\n",
    "best_estimator_rbf = joblib.load('Dataset Falcipain/best_estimator_rbf.pkl')\n",
    "best_estimator_poly = joblib.load('Dataset Falcipain/best_estimator_poly.pkl')"
   ]
  },
  {
   "cell_type": "code",
   "execution_count": 3,
   "id": "b4b4d569",
   "metadata": {},
   "outputs": [],
   "source": [
    "### Load selected features from pickel\n",
    "selected_features_statistical = joblib.load('Dataset Falcipain\\selected_features_statistical.pkl')\n",
    "selected_features_GA = joblib.load('Dataset Falcipain\\selected_features_GA_df.pkl')"
   ]
  },
  {
   "cell_type": "code",
   "execution_count": 4,
   "id": "f32174a0",
   "metadata": {},
   "outputs": [],
   "source": [
    "### Load Train set\n",
    "X_train = pd.read_csv('D:\\Coding\\Machine Learning\\Bioinformatics\\QSAR study on falcipain inhibitor\\Dataset Falcipain/x_train_scaled.csv')\n",
    "y_train = pd.read_csv('D:\\Coding\\Machine Learning\\Bioinformatics\\QSAR study on falcipain inhibitor\\Dataset Falcipain/y_train.csv')"
   ]
  },
  {
   "cell_type": "code",
   "execution_count": 5,
   "id": "d9fd3d6e",
   "metadata": {},
   "outputs": [],
   "source": [
    "### Load Test set\n",
    "X_test = pd.read_csv('D:\\Coding\\Machine Learning\\Bioinformatics\\QSAR study on falcipain inhibitor\\Dataset Falcipain/x_test_scaled.csv')\n",
    "y_test = pd.read_csv('D:\\Coding\\Machine Learning\\Bioinformatics\\QSAR study on falcipain inhibitor\\Dataset Falcipain/y_test.csv')"
   ]
  },
  {
   "cell_type": "code",
   "execution_count": 6,
   "id": "294689a6",
   "metadata": {},
   "outputs": [],
   "source": [
    "### Load Scaler\n",
    "scaler = joblib.load('Dataset Falcipain\\scaler.pkl')"
   ]
  },
  {
   "cell_type": "markdown",
   "id": "1a97b8fe",
   "metadata": {},
   "source": [
    "# Invers Transform Data for Applicability Domain Plot"
   ]
  },
  {
   "cell_type": "code",
   "execution_count": 7,
   "id": "24194a47",
   "metadata": {},
   "outputs": [],
   "source": [
    "X_train_inverse = scaler.inverse_transform(X_train)\n",
    "X_train_inverse = pd.DataFrame(X_train_inverse, columns=X_train.columns.to_list())\n",
    "\n",
    "X_test_inverse = scaler.inverse_transform(X_test)\n",
    "X_test_inverse = pd.DataFrame(X_test_inverse, columns=X_test.columns.to_list())"
   ]
  },
  {
   "cell_type": "markdown",
   "id": "0afc02be",
   "metadata": {},
   "source": [
    "# Slicing Data\n"
   ]
  },
  {
   "cell_type": "code",
   "execution_count": 8,
   "id": "8207c80d",
   "metadata": {},
   "outputs": [
    {
     "data": {
      "text/html": [
       "<div>\n",
       "<style scoped>\n",
       "    .dataframe tbody tr th:only-of-type {\n",
       "        vertical-align: middle;\n",
       "    }\n",
       "\n",
       "    .dataframe tbody tr th {\n",
       "        vertical-align: top;\n",
       "    }\n",
       "\n",
       "    .dataframe thead th {\n",
       "        text-align: right;\n",
       "    }\n",
       "</style>\n",
       "<table border=\"1\" class=\"dataframe\">\n",
       "  <thead>\n",
       "    <tr style=\"text-align: right;\">\n",
       "      <th></th>\n",
       "      <th>nAcid</th>\n",
       "      <th>ALogP</th>\n",
       "      <th>ALogp2</th>\n",
       "      <th>AMR</th>\n",
       "      <th>apol</th>\n",
       "      <th>naAromAtom</th>\n",
       "      <th>nAromBond</th>\n",
       "      <th>nAtom</th>\n",
       "      <th>nHeavyAtom</th>\n",
       "      <th>nH</th>\n",
       "      <th>...</th>\n",
       "      <th>AMW</th>\n",
       "      <th>WTPT-1</th>\n",
       "      <th>WTPT-2</th>\n",
       "      <th>WTPT-3</th>\n",
       "      <th>WTPT-4</th>\n",
       "      <th>WTPT-5</th>\n",
       "      <th>WPATH</th>\n",
       "      <th>WPOL</th>\n",
       "      <th>XLogP</th>\n",
       "      <th>Zagreb</th>\n",
       "    </tr>\n",
       "  </thead>\n",
       "  <tbody>\n",
       "    <tr>\n",
       "      <th>0</th>\n",
       "      <td>-0.175055</td>\n",
       "      <td>-0.667307</td>\n",
       "      <td>0.060116</td>\n",
       "      <td>0.023334</td>\n",
       "      <td>0.619897</td>\n",
       "      <td>0.913049</td>\n",
       "      <td>0.784631</td>\n",
       "      <td>0.545121</td>\n",
       "      <td>1.220854</td>\n",
       "      <td>0.031516</td>\n",
       "      <td>...</td>\n",
       "      <td>0.238029</td>\n",
       "      <td>1.266837</td>\n",
       "      <td>0.516444</td>\n",
       "      <td>1.524384</td>\n",
       "      <td>1.479466</td>\n",
       "      <td>0.729893</td>\n",
       "      <td>0.899578</td>\n",
       "      <td>1.379152</td>\n",
       "      <td>-0.037628</td>\n",
       "      <td>1.330254</td>\n",
       "    </tr>\n",
       "    <tr>\n",
       "      <th>1</th>\n",
       "      <td>-0.175055</td>\n",
       "      <td>0.303730</td>\n",
       "      <td>-0.709409</td>\n",
       "      <td>-0.922499</td>\n",
       "      <td>-0.725249</td>\n",
       "      <td>0.718139</td>\n",
       "      <td>0.784631</td>\n",
       "      <td>-0.794791</td>\n",
       "      <td>-0.692572</td>\n",
       "      <td>-0.822722</td>\n",
       "      <td>...</td>\n",
       "      <td>1.003432</td>\n",
       "      <td>-0.700491</td>\n",
       "      <td>-0.127382</td>\n",
       "      <td>-0.028198</td>\n",
       "      <td>-0.899455</td>\n",
       "      <td>0.628256</td>\n",
       "      <td>-0.708953</td>\n",
       "      <td>-0.844105</td>\n",
       "      <td>-0.301112</td>\n",
       "      <td>-0.723821</td>\n",
       "    </tr>\n",
       "    <tr>\n",
       "      <th>2</th>\n",
       "      <td>-0.175055</td>\n",
       "      <td>-0.625575</td>\n",
       "      <td>0.004245</td>\n",
       "      <td>0.153468</td>\n",
       "      <td>0.116153</td>\n",
       "      <td>-0.256411</td>\n",
       "      <td>-0.301376</td>\n",
       "      <td>0.081305</td>\n",
       "      <td>0.024963</td>\n",
       "      <td>0.116939</td>\n",
       "      <td>...</td>\n",
       "      <td>-0.098506</td>\n",
       "      <td>-0.018287</td>\n",
       "      <td>-0.648925</td>\n",
       "      <td>0.382621</td>\n",
       "      <td>0.393514</td>\n",
       "      <td>-0.597750</td>\n",
       "      <td>-0.178829</td>\n",
       "      <td>0.031723</td>\n",
       "      <td>-0.271793</td>\n",
       "      <td>0.023115</td>\n",
       "    </tr>\n",
       "    <tr>\n",
       "      <th>3</th>\n",
       "      <td>-0.175055</td>\n",
       "      <td>-0.764727</td>\n",
       "      <td>0.198508</td>\n",
       "      <td>-1.282429</td>\n",
       "      <td>-0.298925</td>\n",
       "      <td>1.692690</td>\n",
       "      <td>1.689636</td>\n",
       "      <td>-0.382510</td>\n",
       "      <td>-0.094626</td>\n",
       "      <td>-0.566450</td>\n",
       "      <td>...</td>\n",
       "      <td>0.066954</td>\n",
       "      <td>-0.050616</td>\n",
       "      <td>0.696433</td>\n",
       "      <td>-0.951631</td>\n",
       "      <td>-0.024352</td>\n",
       "      <td>-0.642836</td>\n",
       "      <td>-0.321327</td>\n",
       "      <td>0.166466</td>\n",
       "      <td>0.213671</td>\n",
       "      <td>-0.023568</td>\n",
       "    </tr>\n",
       "    <tr>\n",
       "      <th>4</th>\n",
       "      <td>-0.175055</td>\n",
       "      <td>0.343092</td>\n",
       "      <td>-0.717223</td>\n",
       "      <td>0.443405</td>\n",
       "      <td>-0.234618</td>\n",
       "      <td>-1.425871</td>\n",
       "      <td>-1.387382</td>\n",
       "      <td>-0.073300</td>\n",
       "      <td>-0.572983</td>\n",
       "      <td>0.287787</td>\n",
       "      <td>...</td>\n",
       "      <td>-1.092884</td>\n",
       "      <td>-0.647095</td>\n",
       "      <td>-1.319520</td>\n",
       "      <td>-0.890682</td>\n",
       "      <td>-0.892313</td>\n",
       "      <td>-0.039503</td>\n",
       "      <td>-0.663559</td>\n",
       "      <td>-0.776734</td>\n",
       "      <td>0.026719</td>\n",
       "      <td>-0.723821</td>\n",
       "    </tr>\n",
       "    <tr>\n",
       "      <th>...</th>\n",
       "      <td>...</td>\n",
       "      <td>...</td>\n",
       "      <td>...</td>\n",
       "      <td>...</td>\n",
       "      <td>...</td>\n",
       "      <td>...</td>\n",
       "      <td>...</td>\n",
       "      <td>...</td>\n",
       "      <td>...</td>\n",
       "      <td>...</td>\n",
       "      <td>...</td>\n",
       "      <td>...</td>\n",
       "      <td>...</td>\n",
       "      <td>...</td>\n",
       "      <td>...</td>\n",
       "      <td>...</td>\n",
       "      <td>...</td>\n",
       "      <td>...</td>\n",
       "      <td>...</td>\n",
       "      <td>...</td>\n",
       "      <td>...</td>\n",
       "    </tr>\n",
       "    <tr>\n",
       "      <th>201</th>\n",
       "      <td>-0.175055</td>\n",
       "      <td>-1.547112</td>\n",
       "      <td>1.714596</td>\n",
       "      <td>0.952525</td>\n",
       "      <td>1.715156</td>\n",
       "      <td>0.913049</td>\n",
       "      <td>0.784631</td>\n",
       "      <td>1.678892</td>\n",
       "      <td>1.579621</td>\n",
       "      <td>1.654566</td>\n",
       "      <td>...</td>\n",
       "      <td>-1.036232</td>\n",
       "      <td>1.517698</td>\n",
       "      <td>-0.673684</td>\n",
       "      <td>0.752989</td>\n",
       "      <td>0.487391</td>\n",
       "      <td>0.576197</td>\n",
       "      <td>1.774303</td>\n",
       "      <td>0.570695</td>\n",
       "      <td>2.354662</td>\n",
       "      <td>1.190203</td>\n",
       "    </tr>\n",
       "    <tr>\n",
       "      <th>202</th>\n",
       "      <td>-0.175055</td>\n",
       "      <td>0.233495</td>\n",
       "      <td>-0.690942</td>\n",
       "      <td>0.345670</td>\n",
       "      <td>0.732018</td>\n",
       "      <td>0.913049</td>\n",
       "      <td>0.784631</td>\n",
       "      <td>0.545121</td>\n",
       "      <td>1.460032</td>\n",
       "      <td>-0.139332</td>\n",
       "      <td>...</td>\n",
       "      <td>1.525145</td>\n",
       "      <td>1.484353</td>\n",
       "      <td>0.253274</td>\n",
       "      <td>2.231758</td>\n",
       "      <td>1.478996</td>\n",
       "      <td>0.728487</td>\n",
       "      <td>1.196416</td>\n",
       "      <td>1.783381</td>\n",
       "      <td>0.112009</td>\n",
       "      <td>1.610355</td>\n",
       "    </tr>\n",
       "    <tr>\n",
       "      <th>203</th>\n",
       "      <td>-0.175055</td>\n",
       "      <td>0.189656</td>\n",
       "      <td>-0.676476</td>\n",
       "      <td>-1.335788</td>\n",
       "      <td>-1.277767</td>\n",
       "      <td>-0.256411</td>\n",
       "      <td>-0.301376</td>\n",
       "      <td>-1.207071</td>\n",
       "      <td>-1.170928</td>\n",
       "      <td>-1.164417</td>\n",
       "      <td>...</td>\n",
       "      <td>0.500197</td>\n",
       "      <td>-1.156895</td>\n",
       "      <td>0.350115</td>\n",
       "      <td>-1.257280</td>\n",
       "      <td>0.082625</td>\n",
       "      <td>-1.229831</td>\n",
       "      <td>-1.009344</td>\n",
       "      <td>-0.978848</td>\n",
       "      <td>-0.258086</td>\n",
       "      <td>-1.143973</td>\n",
       "    </tr>\n",
       "    <tr>\n",
       "      <th>204</th>\n",
       "      <td>-0.175055</td>\n",
       "      <td>0.741196</td>\n",
       "      <td>-0.693869</td>\n",
       "      <td>0.607228</td>\n",
       "      <td>1.509540</td>\n",
       "      <td>1.302870</td>\n",
       "      <td>1.508635</td>\n",
       "      <td>1.472752</td>\n",
       "      <td>1.579621</td>\n",
       "      <td>1.312871</td>\n",
       "      <td>...</td>\n",
       "      <td>-0.991905</td>\n",
       "      <td>1.688615</td>\n",
       "      <td>1.149305</td>\n",
       "      <td>0.744682</td>\n",
       "      <td>-0.091899</td>\n",
       "      <td>1.981316</td>\n",
       "      <td>1.845355</td>\n",
       "      <td>1.985495</td>\n",
       "      <td>1.433613</td>\n",
       "      <td>1.843773</td>\n",
       "    </tr>\n",
       "    <tr>\n",
       "      <th>205</th>\n",
       "      <td>-0.175055</td>\n",
       "      <td>-0.099245</td>\n",
       "      <td>-0.524630</td>\n",
       "      <td>-1.710308</td>\n",
       "      <td>-1.596243</td>\n",
       "      <td>-0.256411</td>\n",
       "      <td>-0.301376</td>\n",
       "      <td>-1.516282</td>\n",
       "      <td>-1.649285</td>\n",
       "      <td>-1.335264</td>\n",
       "      <td>...</td>\n",
       "      <td>0.319456</td>\n",
       "      <td>-1.617277</td>\n",
       "      <td>0.942496</td>\n",
       "      <td>-2.030262</td>\n",
       "      <td>-0.889889</td>\n",
       "      <td>-1.217452</td>\n",
       "      <td>-1.200394</td>\n",
       "      <td>-1.315706</td>\n",
       "      <td>-0.412673</td>\n",
       "      <td>-1.564125</td>\n",
       "    </tr>\n",
       "  </tbody>\n",
       "</table>\n",
       "<p>206 rows × 1444 columns</p>\n",
       "</div>"
      ],
      "text/plain": [
       "        nAcid     ALogP    ALogp2       AMR      apol  naAromAtom  nAromBond  \\\n",
       "0   -0.175055 -0.667307  0.060116  0.023334  0.619897    0.913049   0.784631   \n",
       "1   -0.175055  0.303730 -0.709409 -0.922499 -0.725249    0.718139   0.784631   \n",
       "2   -0.175055 -0.625575  0.004245  0.153468  0.116153   -0.256411  -0.301376   \n",
       "3   -0.175055 -0.764727  0.198508 -1.282429 -0.298925    1.692690   1.689636   \n",
       "4   -0.175055  0.343092 -0.717223  0.443405 -0.234618   -1.425871  -1.387382   \n",
       "..        ...       ...       ...       ...       ...         ...        ...   \n",
       "201 -0.175055 -1.547112  1.714596  0.952525  1.715156    0.913049   0.784631   \n",
       "202 -0.175055  0.233495 -0.690942  0.345670  0.732018    0.913049   0.784631   \n",
       "203 -0.175055  0.189656 -0.676476 -1.335788 -1.277767   -0.256411  -0.301376   \n",
       "204 -0.175055  0.741196 -0.693869  0.607228  1.509540    1.302870   1.508635   \n",
       "205 -0.175055 -0.099245 -0.524630 -1.710308 -1.596243   -0.256411  -0.301376   \n",
       "\n",
       "        nAtom  nHeavyAtom        nH  ...       AMW    WTPT-1    WTPT-2  \\\n",
       "0    0.545121    1.220854  0.031516  ...  0.238029  1.266837  0.516444   \n",
       "1   -0.794791   -0.692572 -0.822722  ...  1.003432 -0.700491 -0.127382   \n",
       "2    0.081305    0.024963  0.116939  ... -0.098506 -0.018287 -0.648925   \n",
       "3   -0.382510   -0.094626 -0.566450  ...  0.066954 -0.050616  0.696433   \n",
       "4   -0.073300   -0.572983  0.287787  ... -1.092884 -0.647095 -1.319520   \n",
       "..        ...         ...       ...  ...       ...       ...       ...   \n",
       "201  1.678892    1.579621  1.654566  ... -1.036232  1.517698 -0.673684   \n",
       "202  0.545121    1.460032 -0.139332  ...  1.525145  1.484353  0.253274   \n",
       "203 -1.207071   -1.170928 -1.164417  ...  0.500197 -1.156895  0.350115   \n",
       "204  1.472752    1.579621  1.312871  ... -0.991905  1.688615  1.149305   \n",
       "205 -1.516282   -1.649285 -1.335264  ...  0.319456 -1.617277  0.942496   \n",
       "\n",
       "       WTPT-3    WTPT-4    WTPT-5     WPATH      WPOL     XLogP    Zagreb  \n",
       "0    1.524384  1.479466  0.729893  0.899578  1.379152 -0.037628  1.330254  \n",
       "1   -0.028198 -0.899455  0.628256 -0.708953 -0.844105 -0.301112 -0.723821  \n",
       "2    0.382621  0.393514 -0.597750 -0.178829  0.031723 -0.271793  0.023115  \n",
       "3   -0.951631 -0.024352 -0.642836 -0.321327  0.166466  0.213671 -0.023568  \n",
       "4   -0.890682 -0.892313 -0.039503 -0.663559 -0.776734  0.026719 -0.723821  \n",
       "..        ...       ...       ...       ...       ...       ...       ...  \n",
       "201  0.752989  0.487391  0.576197  1.774303  0.570695  2.354662  1.190203  \n",
       "202  2.231758  1.478996  0.728487  1.196416  1.783381  0.112009  1.610355  \n",
       "203 -1.257280  0.082625 -1.229831 -1.009344 -0.978848 -0.258086 -1.143973  \n",
       "204  0.744682 -0.091899  1.981316  1.845355  1.985495  1.433613  1.843773  \n",
       "205 -2.030262 -0.889889 -1.217452 -1.200394 -1.315706 -0.412673 -1.564125  \n",
       "\n",
       "[206 rows x 1444 columns]"
      ]
     },
     "execution_count": 8,
     "metadata": {},
     "output_type": "execute_result"
    }
   ],
   "source": [
    "X_train"
   ]
  },
  {
   "cell_type": "code",
   "execution_count": 9,
   "id": "bcd763ab",
   "metadata": {},
   "outputs": [
    {
     "data": {
      "text/html": [
       "<div>\n",
       "<style scoped>\n",
       "    .dataframe tbody tr th:only-of-type {\n",
       "        vertical-align: middle;\n",
       "    }\n",
       "\n",
       "    .dataframe tbody tr th {\n",
       "        vertical-align: top;\n",
       "    }\n",
       "\n",
       "    .dataframe thead th {\n",
       "        text-align: right;\n",
       "    }\n",
       "</style>\n",
       "<table border=\"1\" class=\"dataframe\">\n",
       "  <thead>\n",
       "    <tr style=\"text-align: right;\">\n",
       "      <th></th>\n",
       "      <th>nAcid</th>\n",
       "      <th>ALogP</th>\n",
       "      <th>ALogp2</th>\n",
       "      <th>AMR</th>\n",
       "      <th>apol</th>\n",
       "      <th>naAromAtom</th>\n",
       "      <th>nAromBond</th>\n",
       "      <th>nAtom</th>\n",
       "      <th>nHeavyAtom</th>\n",
       "      <th>nH</th>\n",
       "      <th>...</th>\n",
       "      <th>AMW</th>\n",
       "      <th>WTPT-1</th>\n",
       "      <th>WTPT-2</th>\n",
       "      <th>WTPT-3</th>\n",
       "      <th>WTPT-4</th>\n",
       "      <th>WTPT-5</th>\n",
       "      <th>WPATH</th>\n",
       "      <th>WPOL</th>\n",
       "      <th>XLogP</th>\n",
       "      <th>Zagreb</th>\n",
       "    </tr>\n",
       "  </thead>\n",
       "  <tbody>\n",
       "    <tr>\n",
       "      <th>0</th>\n",
       "      <td>-0.175055</td>\n",
       "      <td>-1.122415</td>\n",
       "      <td>0.802327</td>\n",
       "      <td>0.242243</td>\n",
       "      <td>0.606078</td>\n",
       "      <td>0.913049</td>\n",
       "      <td>0.784631</td>\n",
       "      <td>0.596656</td>\n",
       "      <td>1.220854</td>\n",
       "      <td>0.116939</td>\n",
       "      <td>...</td>\n",
       "      <td>0.204769</td>\n",
       "      <td>1.188493</td>\n",
       "      <td>-0.380312</td>\n",
       "      <td>1.222781</td>\n",
       "      <td>3.773332</td>\n",
       "      <td>-1.956496</td>\n",
       "      <td>1.013261</td>\n",
       "      <td>1.513895</td>\n",
       "      <td>-0.941924</td>\n",
       "      <td>1.283571</td>\n",
       "    </tr>\n",
       "    <tr>\n",
       "      <th>1</th>\n",
       "      <td>-0.175055</td>\n",
       "      <td>0.136207</td>\n",
       "      <td>-0.655781</td>\n",
       "      <td>2.987497</td>\n",
       "      <td>2.048700</td>\n",
       "      <td>-1.425871</td>\n",
       "      <td>-1.387382</td>\n",
       "      <td>2.245778</td>\n",
       "      <td>1.818800</td>\n",
       "      <td>2.423380</td>\n",
       "      <td>...</td>\n",
       "      <td>-1.559139</td>\n",
       "      <td>1.635076</td>\n",
       "      <td>-1.889577</td>\n",
       "      <td>1.132088</td>\n",
       "      <td>0.971331</td>\n",
       "      <td>1.281709</td>\n",
       "      <td>2.338770</td>\n",
       "      <td>1.244410</td>\n",
       "      <td>0.337416</td>\n",
       "      <td>1.470305</td>\n",
       "    </tr>\n",
       "    <tr>\n",
       "      <th>2</th>\n",
       "      <td>-0.175055</td>\n",
       "      <td>0.813471</td>\n",
       "      <td>-0.669644</td>\n",
       "      <td>0.732142</td>\n",
       "      <td>1.306212</td>\n",
       "      <td>0.523229</td>\n",
       "      <td>0.603630</td>\n",
       "      <td>1.318147</td>\n",
       "      <td>1.340443</td>\n",
       "      <td>1.227448</td>\n",
       "      <td>...</td>\n",
       "      <td>-1.010828</td>\n",
       "      <td>1.499643</td>\n",
       "      <td>1.767820</td>\n",
       "      <td>0.663827</td>\n",
       "      <td>1.459176</td>\n",
       "      <td>-0.007685</td>\n",
       "      <td>1.374440</td>\n",
       "      <td>2.591838</td>\n",
       "      <td>1.441990</td>\n",
       "      <td>1.937140</td>\n",
       "    </tr>\n",
       "    <tr>\n",
       "      <th>3</th>\n",
       "      <td>-0.175055</td>\n",
       "      <td>1.163326</td>\n",
       "      <td>-0.465564</td>\n",
       "      <td>0.512864</td>\n",
       "      <td>1.108675</td>\n",
       "      <td>0.523229</td>\n",
       "      <td>0.603630</td>\n",
       "      <td>1.112007</td>\n",
       "      <td>1.220854</td>\n",
       "      <td>0.971176</td>\n",
       "      <td>...</td>\n",
       "      <td>-0.823425</td>\n",
       "      <td>1.380079</td>\n",
       "      <td>1.812658</td>\n",
       "      <td>0.626544</td>\n",
       "      <td>0.971415</td>\n",
       "      <td>-0.010272</td>\n",
       "      <td>1.184574</td>\n",
       "      <td>2.457096</td>\n",
       "      <td>1.595435</td>\n",
       "      <td>1.843773</td>\n",
       "    </tr>\n",
       "    <tr>\n",
       "      <th>4</th>\n",
       "      <td>-0.175055</td>\n",
       "      <td>0.990801</td>\n",
       "      <td>-0.584187</td>\n",
       "      <td>-1.482567</td>\n",
       "      <td>-0.991151</td>\n",
       "      <td>0.523229</td>\n",
       "      <td>0.603630</td>\n",
       "      <td>-1.000931</td>\n",
       "      <td>-0.931750</td>\n",
       "      <td>-0.993569</td>\n",
       "      <td>...</td>\n",
       "      <td>0.177546</td>\n",
       "      <td>-0.916343</td>\n",
       "      <td>0.342608</td>\n",
       "      <td>-1.780738</td>\n",
       "      <td>-0.493910</td>\n",
       "      <td>-1.320246</td>\n",
       "      <td>-0.855399</td>\n",
       "      <td>-0.911477</td>\n",
       "      <td>1.000313</td>\n",
       "      <td>-0.957239</td>\n",
       "    </tr>\n",
       "    <tr>\n",
       "      <th>...</th>\n",
       "      <td>...</td>\n",
       "      <td>...</td>\n",
       "      <td>...</td>\n",
       "      <td>...</td>\n",
       "      <td>...</td>\n",
       "      <td>...</td>\n",
       "      <td>...</td>\n",
       "      <td>...</td>\n",
       "      <td>...</td>\n",
       "      <td>...</td>\n",
       "      <td>...</td>\n",
       "      <td>...</td>\n",
       "      <td>...</td>\n",
       "      <td>...</td>\n",
       "      <td>...</td>\n",
       "      <td>...</td>\n",
       "      <td>...</td>\n",
       "      <td>...</td>\n",
       "      <td>...</td>\n",
       "      <td>...</td>\n",
       "      <td>...</td>\n",
       "    </tr>\n",
       "    <tr>\n",
       "      <th>84</th>\n",
       "      <td>-0.175055</td>\n",
       "      <td>-0.312318</td>\n",
       "      <td>-0.349764</td>\n",
       "      <td>-1.041678</td>\n",
       "      <td>-0.033004</td>\n",
       "      <td>1.497780</td>\n",
       "      <td>1.508635</td>\n",
       "      <td>-0.073300</td>\n",
       "      <td>0.024963</td>\n",
       "      <td>-0.139332</td>\n",
       "      <td>...</td>\n",
       "      <td>-0.502562</td>\n",
       "      <td>0.073055</td>\n",
       "      <td>0.733879</td>\n",
       "      <td>-0.808903</td>\n",
       "      <td>-0.361488</td>\n",
       "      <td>-0.022905</td>\n",
       "      <td>-0.246328</td>\n",
       "      <td>-0.305134</td>\n",
       "      <td>0.723884</td>\n",
       "      <td>-0.023568</td>\n",
       "    </tr>\n",
       "    <tr>\n",
       "      <th>85</th>\n",
       "      <td>-0.175055</td>\n",
       "      <td>-0.295994</td>\n",
       "      <td>-0.365049</td>\n",
       "      <td>-0.397922</td>\n",
       "      <td>-0.502156</td>\n",
       "      <td>-0.646231</td>\n",
       "      <td>-0.482377</td>\n",
       "      <td>-0.382510</td>\n",
       "      <td>-0.572983</td>\n",
       "      <td>-0.224756</td>\n",
       "      <td>...</td>\n",
       "      <td>-0.283621</td>\n",
       "      <td>-0.632127</td>\n",
       "      <td>-1.049342</td>\n",
       "      <td>0.371856</td>\n",
       "      <td>0.530600</td>\n",
       "      <td>-0.063180</td>\n",
       "      <td>-0.624086</td>\n",
       "      <td>-0.709362</td>\n",
       "      <td>-0.657880</td>\n",
       "      <td>-0.770505</td>\n",
       "    </tr>\n",
       "    <tr>\n",
       "      <th>86</th>\n",
       "      <td>-0.175055</td>\n",
       "      <td>1.565314</td>\n",
       "      <td>-0.053403</td>\n",
       "      <td>-0.402850</td>\n",
       "      <td>-0.264747</td>\n",
       "      <td>0.718139</td>\n",
       "      <td>0.784631</td>\n",
       "      <td>-0.279440</td>\n",
       "      <td>0.144552</td>\n",
       "      <td>-0.566450</td>\n",
       "      <td>...</td>\n",
       "      <td>0.976928</td>\n",
       "      <td>0.091289</td>\n",
       "      <td>-0.777332</td>\n",
       "      <td>0.090288</td>\n",
       "      <td>0.672747</td>\n",
       "      <td>-1.956496</td>\n",
       "      <td>-0.086462</td>\n",
       "      <td>0.301209</td>\n",
       "      <td>0.326375</td>\n",
       "      <td>0.163166</td>\n",
       "    </tr>\n",
       "    <tr>\n",
       "      <th>87</th>\n",
       "      <td>-0.175055</td>\n",
       "      <td>-1.017162</td>\n",
       "      <td>0.609029</td>\n",
       "      <td>0.242611</td>\n",
       "      <td>0.817435</td>\n",
       "      <td>0.913049</td>\n",
       "      <td>0.784631</td>\n",
       "      <td>0.751261</td>\n",
       "      <td>1.340443</td>\n",
       "      <td>0.287787</td>\n",
       "      <td>...</td>\n",
       "      <td>-0.039478</td>\n",
       "      <td>1.386047</td>\n",
       "      <td>0.498515</td>\n",
       "      <td>1.562749</td>\n",
       "      <td>1.964234</td>\n",
       "      <td>0.731630</td>\n",
       "      <td>1.088655</td>\n",
       "      <td>1.513895</td>\n",
       "      <td>-0.191073</td>\n",
       "      <td>1.423621</td>\n",
       "    </tr>\n",
       "    <tr>\n",
       "      <th>88</th>\n",
       "      <td>-0.175055</td>\n",
       "      <td>0.607903</td>\n",
       "      <td>-0.722439</td>\n",
       "      <td>-1.125862</td>\n",
       "      <td>-1.139717</td>\n",
       "      <td>-0.256411</td>\n",
       "      <td>-0.120375</td>\n",
       "      <td>-1.104001</td>\n",
       "      <td>-1.410107</td>\n",
       "      <td>-0.822722</td>\n",
       "      <td>...</td>\n",
       "      <td>-0.269332</td>\n",
       "      <td>-1.436907</td>\n",
       "      <td>-0.615454</td>\n",
       "      <td>-1.759906</td>\n",
       "      <td>-1.783656</td>\n",
       "      <td>-0.235545</td>\n",
       "      <td>-1.066186</td>\n",
       "      <td>-1.517820</td>\n",
       "      <td>0.679716</td>\n",
       "      <td>-1.564125</td>\n",
       "    </tr>\n",
       "  </tbody>\n",
       "</table>\n",
       "<p>89 rows × 1444 columns</p>\n",
       "</div>"
      ],
      "text/plain": [
       "       nAcid     ALogP    ALogp2       AMR      apol  naAromAtom  nAromBond  \\\n",
       "0  -0.175055 -1.122415  0.802327  0.242243  0.606078    0.913049   0.784631   \n",
       "1  -0.175055  0.136207 -0.655781  2.987497  2.048700   -1.425871  -1.387382   \n",
       "2  -0.175055  0.813471 -0.669644  0.732142  1.306212    0.523229   0.603630   \n",
       "3  -0.175055  1.163326 -0.465564  0.512864  1.108675    0.523229   0.603630   \n",
       "4  -0.175055  0.990801 -0.584187 -1.482567 -0.991151    0.523229   0.603630   \n",
       "..       ...       ...       ...       ...       ...         ...        ...   \n",
       "84 -0.175055 -0.312318 -0.349764 -1.041678 -0.033004    1.497780   1.508635   \n",
       "85 -0.175055 -0.295994 -0.365049 -0.397922 -0.502156   -0.646231  -0.482377   \n",
       "86 -0.175055  1.565314 -0.053403 -0.402850 -0.264747    0.718139   0.784631   \n",
       "87 -0.175055 -1.017162  0.609029  0.242611  0.817435    0.913049   0.784631   \n",
       "88 -0.175055  0.607903 -0.722439 -1.125862 -1.139717   -0.256411  -0.120375   \n",
       "\n",
       "       nAtom  nHeavyAtom        nH  ...       AMW    WTPT-1    WTPT-2  \\\n",
       "0   0.596656    1.220854  0.116939  ...  0.204769  1.188493 -0.380312   \n",
       "1   2.245778    1.818800  2.423380  ... -1.559139  1.635076 -1.889577   \n",
       "2   1.318147    1.340443  1.227448  ... -1.010828  1.499643  1.767820   \n",
       "3   1.112007    1.220854  0.971176  ... -0.823425  1.380079  1.812658   \n",
       "4  -1.000931   -0.931750 -0.993569  ...  0.177546 -0.916343  0.342608   \n",
       "..       ...         ...       ...  ...       ...       ...       ...   \n",
       "84 -0.073300    0.024963 -0.139332  ... -0.502562  0.073055  0.733879   \n",
       "85 -0.382510   -0.572983 -0.224756  ... -0.283621 -0.632127 -1.049342   \n",
       "86 -0.279440    0.144552 -0.566450  ...  0.976928  0.091289 -0.777332   \n",
       "87  0.751261    1.340443  0.287787  ... -0.039478  1.386047  0.498515   \n",
       "88 -1.104001   -1.410107 -0.822722  ... -0.269332 -1.436907 -0.615454   \n",
       "\n",
       "      WTPT-3    WTPT-4    WTPT-5     WPATH      WPOL     XLogP    Zagreb  \n",
       "0   1.222781  3.773332 -1.956496  1.013261  1.513895 -0.941924  1.283571  \n",
       "1   1.132088  0.971331  1.281709  2.338770  1.244410  0.337416  1.470305  \n",
       "2   0.663827  1.459176 -0.007685  1.374440  2.591838  1.441990  1.937140  \n",
       "3   0.626544  0.971415 -0.010272  1.184574  2.457096  1.595435  1.843773  \n",
       "4  -1.780738 -0.493910 -1.320246 -0.855399 -0.911477  1.000313 -0.957239  \n",
       "..       ...       ...       ...       ...       ...       ...       ...  \n",
       "84 -0.808903 -0.361488 -0.022905 -0.246328 -0.305134  0.723884 -0.023568  \n",
       "85  0.371856  0.530600 -0.063180 -0.624086 -0.709362 -0.657880 -0.770505  \n",
       "86  0.090288  0.672747 -1.956496 -0.086462  0.301209  0.326375  0.163166  \n",
       "87  1.562749  1.964234  0.731630  1.088655  1.513895 -0.191073  1.423621  \n",
       "88 -1.759906 -1.783656 -0.235545 -1.066186 -1.517820  0.679716 -1.564125  \n",
       "\n",
       "[89 rows x 1444 columns]"
      ]
     },
     "execution_count": 9,
     "metadata": {},
     "output_type": "execute_result"
    }
   ],
   "source": [
    "X_test"
   ]
  },
  {
   "cell_type": "markdown",
   "id": "732dc533",
   "metadata": {},
   "source": [
    "**For experiment purpose, features slicing with GA FS result will be done separatetly for each different kernel**"
   ]
  },
  {
   "cell_type": "code",
   "execution_count": 10,
   "id": "8f18540d",
   "metadata": {},
   "outputs": [],
   "source": [
    "solutions_linear_df = selected_features_GA[0]\n",
    "solutions_rbf_df = selected_features_GA[1]\n",
    "solutions_poly_df = selected_features_GA[2]"
   ]
  },
  {
   "cell_type": "code",
   "execution_count": 11,
   "id": "22a6622c",
   "metadata": {},
   "outputs": [],
   "source": [
    "### Linear Kernel GA FS result\n",
    "X_train_linear = X_train[solutions_linear_df.sort_values(by='objective_scores', ascending=False, ignore_index=True)['selected_features'][0]]\n",
    "X_test_linear = X_test[solutions_linear_df.sort_values(by='objective_scores', ascending=False, ignore_index=True)['selected_features'][0]]\n",
    "\n",
    "### rbf Kernel GA FS result\n",
    "X_train_rbf = X_train[solutions_rbf_df.sort_values(by='objective_scores', ascending=False, ignore_index=True)['selected_features'][0]]\n",
    "X_test_rbf = X_test[solutions_rbf_df.sort_values(by='objective_scores', ascending=False, ignore_index=True)['selected_features'][0]]\n",
    "\n",
    "### poly Kernel GA FS result\n",
    "X_train_poly = X_train[solutions_poly_df.sort_values(by='objective_scores', ascending=False, ignore_index=True)['selected_features'][0]]\n",
    "X_test_poly = X_test[solutions_poly_df.sort_values(by='objective_scores', ascending=False, ignore_index=True)['selected_features'][0]]"
   ]
  },
  {
   "cell_type": "code",
   "execution_count": 12,
   "id": "8ecf61b5",
   "metadata": {},
   "outputs": [
    {
     "name": "stdout",
     "output_type": "stream",
     "text": [
      "Linear features num: 256\n",
      "Rbf features num: 245\n",
      "Poly features num: 262\n"
     ]
    }
   ],
   "source": [
    "# Data dimensions after features selection\n",
    "\n",
    "print(f'Linear features num: {X_train_linear.shape[1]}')\n",
    "print(f'Rbf features num: {X_train_rbf.shape[1]}')\n",
    "print(f'Poly features num: {X_train_poly.shape[1]}')"
   ]
  },
  {
   "cell_type": "markdown",
   "id": "1abbc5ee",
   "metadata": {},
   "source": [
    "# Making Prediction with the best estimator from each kernel"
   ]
  },
  {
   "cell_type": "markdown",
   "id": "11079149",
   "metadata": {},
   "source": [
    "## Linear"
   ]
  },
  {
   "cell_type": "code",
   "execution_count": 16,
   "id": "8bca41ea",
   "metadata": {},
   "outputs": [],
   "source": [
    "### Train & Test prediction\n",
    "y_pred_train_linear = best_estimator_linear.predict(X_train_linear)\n",
    "y_pred_test_linear = best_estimator_linear.predict(X_test_linear)"
   ]
  },
  {
   "cell_type": "markdown",
   "id": "d1725502",
   "metadata": {},
   "source": [
    "### Statistical QSAR Validation"
   ]
  },
  {
   "cell_type": "code",
   "execution_count": 15,
   "id": "a645f677",
   "metadata": {},
   "outputs": [
    {
     "name": "stdout",
     "output_type": "stream",
     "text": [
      "Linear model train score: 0.9131884318716333\n",
      "Linear model test score: 0.7220628733412808\n"
     ]
    }
   ],
   "source": [
    "### score\n",
    "print(f'Linear model train score: {r2_score(y_train, y_pred_train_linear)}')\n",
    "print(f'Linear model test score: {r2_score(y_test, y_pred_test_linear)}')"
   ]
  },
  {
   "cell_type": "code",
   "execution_count": 21,
   "id": "9818523c",
   "metadata": {},
   "outputs": [
    {
     "name": "stdout",
     "output_type": "stream",
     "text": [
      "{'r2': 0.9138200102657653, 'k': 0.9762839430640701, 'k_dash': 0.97956869027958, 'r2r0': 0.007425861961965833, 'r2r0_dash': 0.028072697480415708, 'r0r0_dash': 0.018867491445425433, 'rm2': 0.8385426412995031, 'rm2_dash': 0.7674564151748373, 'rm2_bar': 0.8029995282371702, 'd_rm2': 0.07108622612466575} \n",
      "\n"
     ]
    },
    {
     "data": {
      "text/plain": [
       "{'r2': 0.729322835013921,\n",
       " 'k': 0.8536125889057945,\n",
       " 'k_dash': 1.0155022607492326,\n",
       " 'r2r0': 0.027140999786208948,\n",
       " 'r2r0_dash': 0.26776414344650395,\n",
       " 'r0r0_dash': 0.17549195330428835,\n",
       " 'rm2': 0.6267121379193591,\n",
       " 'rm2_dash': 0.40702608430517273,\n",
       " 'rm2_bar': 0.5168691111122659,\n",
       " 'd_rm2': 0.21968605361418636}"
      ]
     },
     "execution_count": 21,
     "metadata": {},
     "output_type": "execute_result"
    }
   ],
   "source": [
    "qsar_param_linear_train = my_validation.qsar_param(y_train.values.ravel(), y_pred_train_linear)\n",
    "qsar_param_linear_test = my_validation.qsar_param(y_test.values.ravel(), y_pred_test_linear)\n",
    "\n",
    "print(qsar_param_linear_train, '\\n')\n",
    "qsar_param_linear_test"
   ]
  },
  {
   "cell_type": "code",
   "execution_count": 33,
   "id": "c35ab802",
   "metadata": {},
   "outputs": [
    {
     "data": {
      "text/plain": [
       "0.7735814398904746"
      ]
     },
     "execution_count": 33,
     "metadata": {},
     "output_type": "execute_result"
    }
   ],
   "source": [
    "X_linear_loo = np.concatenate((X_train_linear.to_numpy(), X_test_linear.to_numpy()), axis = 0)\n",
    "y_loo = np.hstack((y_train.values.ravel(), y_test.values.ravel()))\n",
    "\n",
    "my_validation.q2_loo(best_estimator_linear, X_linear_loo, y_loo)"
   ]
  },
  {
   "cell_type": "code",
   "execution_count": 37,
   "id": "37f70b2f",
   "metadata": {},
   "outputs": [
    {
     "data": {
      "text/plain": [
       "0.608920094830817"
      ]
     },
     "execution_count": 37,
     "metadata": {},
     "output_type": "execute_result"
    }
   ],
   "source": [
    "my_validation.y_random(best_estimator_linear, X_test_linear, y_pred_test_linear)"
   ]
  },
  {
   "cell_type": "markdown",
   "id": "04371ddf",
   "metadata": {},
   "source": [
    "### Regression Plot Result"
   ]
  },
  {
   "cell_type": "code",
   "execution_count": 17,
   "id": "62e585a3",
   "metadata": {},
   "outputs": [
    {
     "data": {
      "image/png": "[encoded data removed]",
      "text/plain": [
       "<Figure size 432x288 with 1 Axes>"
      ]
     },
     "metadata": {
      "needs_background": "light"
     },
     "output_type": "display_data"
    }
   ],
   "source": [
    "fig, ax = plt.subplots()\n",
    "ax.scatter(y_train, y_pred_train_linear, c = 'blue', label='train set')\n",
    "ax.scatter(y_test, y_pred_test_linear, c = 'red', marker=\"^\", label='test set')\n",
    "ax.plot([0, 1], [0, 1], transform=ax.transAxes, color = 'black')\n",
    "ax.legend()\n",
    "plt.ylabel('Predicted values')\n",
    "plt.xlabel('Actual values')\n",
    "\n",
    "plt.savefig('Analysis Plot Images/scatter_plc50_linear.png', dpi=1000, bbox_inches=\"tight\")\n",
    "plt.show()"
   ]
  },
  {
   "cell_type": "markdown",
   "id": "b7b30879",
   "metadata": {},
   "source": [
    "### Williams Plot of Applicability Domain"
   ]
  },
  {
   "cell_type": "code",
   "execution_count": 49,
   "id": "046fa1bf",
   "metadata": {},
   "outputs": [
    {
     "name": "stdout",
     "output_type": "stream",
     "text": [
      "0.08737864077669903\n"
     ]
    },
    {
     "data": {
      "image/png": "[encoded data removed]",
      "text/plain": [
       "<Figure size 432x288 with 1 Axes>"
      ]
     },
     "metadata": {
      "needs_background": "light"
     },
     "output_type": "display_data"
    }
   ],
   "source": [
    "pca = PCA(n_components=5)\n",
    "principalComponents_train = pca.fit_transform(X_train_inverse[X_train_linear.columns.to_list()])\n",
    "x_train_pca = pd.DataFrame(data = principalComponents_train, columns = ['feat1', 'feat2', 'feat3', 'feat4', 'feat5'])\n",
    "\n",
    "pca = PCA(n_components=5)\n",
    "principalComponents_test = pca.fit_transform(X_test_inverse[X_test_linear.columns.to_list()])\n",
    "x_test_pca = pd.DataFrame(data = principalComponents_test, columns = ['feat1', 'feat2', 'feat3', 'feat4', 'feat5'])\n",
    "\n",
    "\n",
    "my_validation.applicability_domain(x_train_pca.values, x_test_pca.values, y_train.values.ravel(), y_pred_train_linear, y_test.values.ravel(), y_pred_test_linear)"
   ]
  },
  {
   "cell_type": "markdown",
   "id": "96b47bec",
   "metadata": {},
   "source": [
    "## RBF"
   ]
  },
  {
   "cell_type": "code",
   "execution_count": 23,
   "id": "d7b1892a",
   "metadata": {},
   "outputs": [],
   "source": [
    "### Train & Test prediction\n",
    "y_pred_train_rbf = best_estimator_rbf.predict(X_train_rbf)\n",
    "y_pred_test_rbf = best_estimator_rbf.predict(X_test_rbf)"
   ]
  },
  {
   "cell_type": "markdown",
   "id": "bdb459c1",
   "metadata": {},
   "source": [
    "### Statistical QSAR Validation"
   ]
  },
  {
   "cell_type": "code",
   "execution_count": 24,
   "id": "69aeee89",
   "metadata": {},
   "outputs": [
    {
     "name": "stdout",
     "output_type": "stream",
     "text": [
      "RBF model train score: 0.9899373655153937\n",
      "RBF model test score: 0.8401852450967211\n"
     ]
    }
   ],
   "source": [
    "### score\n",
    "print(f'RBF model train score: {r2_score(y_train, y_pred_train_rbf)}')\n",
    "print(f'RBF model test score: {r2_score(y_test, y_pred_test_rbf)}')"
   ]
  },
  {
   "cell_type": "code",
   "execution_count": 25,
   "id": "ae068f0c",
   "metadata": {},
   "outputs": [
    {
     "name": "stdout",
     "output_type": "stream",
     "text": [
      "{'r2': 0.9903068343258797, 'k': 0.9969438158350714, 'k_dash': 0.9984014840791119, 'r2r0': 0.0002091429470953069, 'r2r0_dash': 0.00047760907668322904, 'r0r0_dash': 0.00026586384291593657, 'rm2': 0.9760548191514277, 'rm2_dash': 0.9687695495669307, 'rm2_bar': 0.9724121843591792, 'd_rm2': 0.007285269584496934} \n",
      "\n"
     ]
    },
    {
     "data": {
      "text/plain": [
       "{'r2': 0.8414167545337901,\n",
       " 'k': 0.9795400861733224,\n",
       " 'k_dash': 0.9466416482063302,\n",
       " 'r2r0': 7.977289179323225e-05,\n",
       " 'r2r0_dash': 0.022199246318473236,\n",
       " 'r0r0_dash': 0.0186116955426735,\n",
       " 'rm2': 0.8345231811809379,\n",
       " 'rm2_dash': 0.726419929931786,\n",
       " 'rm2_bar': 0.7804715555563619,\n",
       " 'd_rm2': 0.10810325124915199}"
      ]
     },
     "execution_count": 25,
     "metadata": {},
     "output_type": "execute_result"
    }
   ],
   "source": [
    "qsar_param_rbf_train = my_validation.qsar_param(y_train.values.ravel(), y_pred_train_rbf)\n",
    "qsar_param_rbf_test = my_validation.qsar_param(y_test.values.ravel(), y_pred_test_rbf)\n",
    "\n",
    "print(qsar_param_rbf_train, '\\n')\n",
    "(qsar_param_rbf_test)"
   ]
  },
  {
   "cell_type": "code",
   "execution_count": 34,
   "id": "8e2ac40a",
   "metadata": {},
   "outputs": [
    {
     "data": {
      "text/plain": [
       "0.8507141586928181"
      ]
     },
     "execution_count": 34,
     "metadata": {},
     "output_type": "execute_result"
    }
   ],
   "source": [
    "X_rbf_loo = np.concatenate((X_train_rbf.to_numpy(), X_test_rbf.to_numpy()), axis = 0)\n",
    "y_loo = np.hstack((y_train.values.ravel(), y_test.values.ravel()))\n",
    "\n",
    "my_validation.q2_loo(best_estimator_rbf, X_rbf_loo, y_loo)"
   ]
  },
  {
   "cell_type": "code",
   "execution_count": 38,
   "id": "da066639",
   "metadata": {},
   "outputs": [
    {
     "data": {
      "text/plain": [
       "0.4957431907630691"
      ]
     },
     "execution_count": 38,
     "metadata": {},
     "output_type": "execute_result"
    }
   ],
   "source": [
    "my_validation.y_random(best_estimator_rbf, X_test_rbf, y_pred_test_rbf)"
   ]
  },
  {
   "cell_type": "markdown",
   "id": "2c339a96",
   "metadata": {},
   "source": [
    "### Regression Plot Result"
   ]
  },
  {
   "cell_type": "code",
   "execution_count": 21,
   "id": "7cb3d4e9",
   "metadata": {},
   "outputs": [
    {
     "data": {
      "image/png": "[encoded data removed]",
      "text/plain": [
       "<Figure size 432x288 with 1 Axes>"
      ]
     },
     "metadata": {
      "needs_background": "light"
     },
     "output_type": "display_data"
    }
   ],
   "source": [
    "fig, ax = plt.subplots()\n",
    "ax.scatter(y_train, y_pred_train_rbf, c = 'blue', label='train set')\n",
    "ax.scatter(y_test, y_pred_test_rbf, c = 'red', marker=\"^\", label='test set')\n",
    "ax.plot([0, 1], [0, 1], transform=ax.transAxes, color = 'black')\n",
    "ax.legend()\n",
    "plt.ylabel('Predicted values')\n",
    "plt.xlabel('Actual values')\n",
    "\n",
    "plt.savefig('Analysis Plot Images/scatter_plc50_rbf.png', dpi=1000, bbox_inches=\"tight\")\n",
    "plt.show()"
   ]
  },
  {
   "cell_type": "markdown",
   "id": "fcedc44c",
   "metadata": {},
   "source": [
    "### Williams Plot of Applicability Domain"
   ]
  },
  {
   "cell_type": "code",
   "execution_count": 50,
   "id": "48545882",
   "metadata": {},
   "outputs": [
    {
     "name": "stdout",
     "output_type": "stream",
     "text": [
      "0.08737864077669903\n"
     ]
    },
    {
     "data": {
      "image/png": "[encoded data removed]",
      "text/plain": [
       "<Figure size 432x288 with 1 Axes>"
      ]
     },
     "metadata": {
      "needs_background": "light"
     },
     "output_type": "display_data"
    }
   ],
   "source": [
    "pca = PCA(n_components=5)\n",
    "principalComponents_train = pca.fit_transform(X_train_inverse[X_train_rbf.columns.to_list()])\n",
    "x_train_pca = pd.DataFrame(data = principalComponents_train, columns = ['feat1', 'feat2', 'feat3', 'feat4', 'feat5'])\n",
    "\n",
    "pca = PCA(n_components=5)\n",
    "principalComponents_test = pca.fit_transform(X_test_inverse[X_test_rbf.columns.to_list()])\n",
    "x_test_pca = pd.DataFrame(data = principalComponents_test, columns = ['feat1', 'feat2', 'feat3', 'feat4', 'feat5'])\n",
    "\n",
    "\n",
    "my_validation.applicability_domain(x_train_pca.values, x_test_pca.values, y_train.values.ravel(), y_pred_train_rbf, y_test.values.ravel(), y_pred_test_rbf)"
   ]
  },
  {
   "cell_type": "markdown",
   "id": "c10bddf7",
   "metadata": {},
   "source": [
    "## Poly"
   ]
  },
  {
   "cell_type": "code",
   "execution_count": 27,
   "id": "5c5e115e",
   "metadata": {},
   "outputs": [],
   "source": [
    "### Train & Test prediction\n",
    "y_pred_train_poly = best_estimator_poly.predict(X_train_poly)\n",
    "y_pred_test_poly = best_estimator_poly.predict(X_test_poly)"
   ]
  },
  {
   "cell_type": "markdown",
   "id": "77a704f4",
   "metadata": {},
   "source": [
    "### Statistical QSAR Validation"
   ]
  },
  {
   "cell_type": "code",
   "execution_count": 28,
   "id": "598e836c",
   "metadata": {},
   "outputs": [
    {
     "name": "stdout",
     "output_type": "stream",
     "text": [
      "Poly model train score: 0.9739060248853836\n",
      "Poly model test score: 0.7606489792084087\n"
     ]
    }
   ],
   "source": [
    "### score\n",
    "print(f'Poly model train score: {r2_score(y_train, y_pred_train_poly)}')\n",
    "print(f'Poly model test score: {r2_score(y_test, y_pred_test_poly)}')"
   ]
  },
  {
   "cell_type": "code",
   "execution_count": 29,
   "id": "0cab0d5e",
   "metadata": {},
   "outputs": [
    {
     "name": "stdout",
     "output_type": "stream",
     "text": [
      "{'r2': 0.9758619492405258, 'k': 1.0456964051003437, 'k_dash': 0.9450355187682072, 'r2r0': 0.0009664691164656687, 'r2r0_dash': 0.00016807692788743263, 'r0r0_dash': 0.0007791205574043669, 'rm2': 0.9458926514681114, 'rm2_dash': 0.9633640612745689, 'rm2_bar': 0.9546283563713401, 'd_rm2': 0.01747140980645745} \n",
      "\n"
     ]
    },
    {
     "data": {
      "text/plain": [
       "{'r2': 0.762244014945761,\n",
       " 'k': 0.7532028503077446,\n",
       " 'k_dash': 1.0845141294543892,\n",
       " 'r2r0': 0.21221448258978154,\n",
       " 'r2r0_dash': 1.3994651124905797,\n",
       " 'r0r0_dash': 0.9049746868824682,\n",
       " 'rm2': 0.4556747983761803,\n",
       " 'rm2_dash': -0.025023030854789064,\n",
       " 'rm2_bar': 0.2153258837606956,\n",
       " 'd_rm2': 0.4806978292309694}"
      ]
     },
     "execution_count": 29,
     "metadata": {},
     "output_type": "execute_result"
    }
   ],
   "source": [
    "qsar_param_poly_train = my_validation.qsar_param(y_train.values.ravel(), y_pred_train_poly)\n",
    "qsar_param_poly_test = my_validation.qsar_param(y_test.values.ravel(), y_pred_test_poly)\n",
    "\n",
    "print(qsar_param_poly_train, '\\n')\n",
    "(qsar_param_poly_test)"
   ]
  },
  {
   "cell_type": "code",
   "execution_count": 35,
   "id": "0b23d96e",
   "metadata": {},
   "outputs": [
    {
     "data": {
      "text/plain": [
       "0.76792419414735"
      ]
     },
     "execution_count": 35,
     "metadata": {},
     "output_type": "execute_result"
    }
   ],
   "source": [
    "X_poly_loo = np.concatenate((X_train_poly.to_numpy(), X_test_poly.to_numpy()), axis = 0)\n",
    "y_loo = np.hstack((y_train.values.ravel(), y_test.values.ravel()))\n",
    "\n",
    "my_validation.q2_loo(best_estimator_poly, X_poly_loo, y_loo)"
   ]
  },
  {
   "cell_type": "code",
   "execution_count": 39,
   "id": "8012464e",
   "metadata": {},
   "outputs": [
    {
     "data": {
      "text/plain": [
       "0.5031038673251081"
      ]
     },
     "execution_count": 39,
     "metadata": {},
     "output_type": "execute_result"
    }
   ],
   "source": [
    "my_validation.y_random(best_estimator_poly, X_test_poly, y_pred_test_poly)"
   ]
  },
  {
   "cell_type": "markdown",
   "id": "dba04fdc",
   "metadata": {},
   "source": [
    "### Regression Plot Result"
   ]
  },
  {
   "cell_type": "code",
   "execution_count": 47,
   "id": "4dbca31c",
   "metadata": {},
   "outputs": [
    {
     "data": {
      "image/png": "[encoded data removed]",
      "text/plain": [
       "<Figure size 432x288 with 1 Axes>"
      ]
     },
     "metadata": {
      "needs_background": "light"
     },
     "output_type": "display_data"
    }
   ],
   "source": [
    "fig, ax = plt.subplots()\n",
    "ax.scatter(y_train, y_pred_train_poly, c = 'blue', label='train set')\n",
    "ax.scatter(y_test, y_pred_test_poly, c = 'red', marker=\"^\", label='test set')\n",
    "ax.plot([0, 1], [0, 1], transform=ax.transAxes, color = 'black')\n",
    "ax.legend()\n",
    "plt.ylabel('Predicted values')\n",
    "plt.xlabel('Actual values')\n",
    "\n",
    "ax.set_xlim([3, 9])\n",
    "ax.set_ylim([3, 9])\n",
    "plt.savefig('Analysis Plot Images/scatter_plc50_poly.png', dpi=1000, bbox_inches=\"tight\")\n",
    "plt.show()"
   ]
  },
  {
   "cell_type": "markdown",
   "id": "a767c622",
   "metadata": {},
   "source": [
    "### Williams Plot of Applicability Domain"
   ]
  },
  {
   "cell_type": "code",
   "execution_count": 51,
   "id": "98472b3c",
   "metadata": {},
   "outputs": [
    {
     "name": "stdout",
     "output_type": "stream",
     "text": [
      "0.08737864077669903\n"
     ]
    },
    {
     "data": {
      "image/png": "[encoded data removed]",
      "text/plain": [
       "<Figure size 432x288 with 1 Axes>"
      ]
     },
     "metadata": {
      "needs_background": "light"
     },
     "output_type": "display_data"
    }
   ],
   "source": [
    "pca = PCA(n_components=5)\n",
    "principalComponents_train = pca.fit_transform(X_train_inverse[X_train_poly.columns.to_list()])\n",
    "x_train_pca = pd.DataFrame(data = principalComponents_train, columns = ['feat1', 'feat2', 'feat3', 'feat4', 'feat5'])\n",
    "\n",
    "pca = PCA(n_components=5)\n",
    "principalComponents_test = pca.fit_transform(X_test_inverse[X_test_poly.columns.to_list()])\n",
    "x_test_pca = pd.DataFrame(data = principalComponents_test, columns = ['feat1', 'feat2', 'feat3', 'feat4', 'feat5'])\n",
    "\n",
    "\n",
    "my_validation.applicability_domain(x_train_pca.values, x_test_pca.values, y_train.values.ravel(), y_pred_train_poly, y_test.values.ravel(), y_pred_test_poly)"
   ]
  }
 ],
 "metadata": {
  "kernelspec": {
   "display_name": "bio-env",
   "language": "python",
   "name": "bio-env"
  },
  "language_info": {
   "codemirror_mode": {
    "name": "ipython",
    "version": 3
   },
   "file_extension": ".py",
   "mimetype": "text/x-python",
   "name": "python",
   "nbconvert_exporter": "python",
   "pygments_lexer": "ipython3",
   "version": "3.7.11"
  }
 },
 "nbformat": 4,
 "nbformat_minor": 5
}
